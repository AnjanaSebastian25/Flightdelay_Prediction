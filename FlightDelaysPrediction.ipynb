{
 "cells": [
  {
   "cell_type": "markdown",
   "id": "069cd47e",
   "metadata": {},
   "source": [
    "# The problem: An organ donor must send an organ urgently from BWI airport (Baltimore) to a New York Airport on a Monday so the patient who will receive that organ can have his surgery done that same day with the least delay as possible. To do this the organ can be shipped though OH carrier that reaches JFK airport, or alternatively use RU carrier that reaches Newark airport. We must decide by reducing the chances of fligt delays of each option."
   ]
  },
  {
   "cell_type": "code",
   "execution_count": 1,
   "id": "71394f88",
   "metadata": {},
   "outputs": [],
   "source": [
    "import pandas as pd\n",
    "from sklearn.model_selection import train_test_split\n",
    "from sklearn import preprocessing\n",
    "from sklearn.naive_bayes import MultinomialNB\n",
    "from sklearn.metrics import accuracy_score\n",
    "from sklearn.neighbors import NearestNeighbors,KNeighborsClassifier\n",
    "import matplotlib.pylab as plt\n",
    "from dmba import classificationSummary, gainsChart"
   ]
  },
  {
   "cell_type": "code",
   "execution_count": 11,
   "id": "808b8f04",
   "metadata": {},
   "outputs": [],
   "source": [
    "delays_df = pd.read_csv('FlightDelays.csv')"
   ]
  },
  {
   "cell_type": "code",
   "execution_count": 81,
   "id": "40c6dfd7",
   "metadata": {},
   "outputs": [
    {
     "data": {
      "text/html": [
       "<div>\n",
       "<style scoped>\n",
       "    .dataframe tbody tr th:only-of-type {\n",
       "        vertical-align: middle;\n",
       "    }\n",
       "\n",
       "    .dataframe tbody tr th {\n",
       "        vertical-align: top;\n",
       "    }\n",
       "\n",
       "    .dataframe thead th {\n",
       "        text-align: right;\n",
       "    }\n",
       "</style>\n",
       "<table border=\"1\" class=\"dataframe\">\n",
       "  <thead>\n",
       "    <tr style=\"text-align: right;\">\n",
       "      <th></th>\n",
       "      <th>CRS_DEP_TIME</th>\n",
       "      <th>CARRIER</th>\n",
       "      <th>DEP_TIME</th>\n",
       "      <th>DEST</th>\n",
       "      <th>DISTANCE</th>\n",
       "      <th>FL_DATE</th>\n",
       "      <th>FL_NUM</th>\n",
       "      <th>ORIGIN</th>\n",
       "      <th>Weather</th>\n",
       "      <th>DAY_WEEK</th>\n",
       "      <th>DAY_OF_MONTH</th>\n",
       "      <th>TAIL_NUM</th>\n",
       "      <th>Flight Status</th>\n",
       "    </tr>\n",
       "  </thead>\n",
       "  <tbody>\n",
       "    <tr>\n",
       "      <th>0</th>\n",
       "      <td>1455</td>\n",
       "      <td>OH</td>\n",
       "      <td>1455</td>\n",
       "      <td>JFK</td>\n",
       "      <td>184</td>\n",
       "      <td>01/01/2004</td>\n",
       "      <td>5935</td>\n",
       "      <td>BWI</td>\n",
       "      <td>0</td>\n",
       "      <td>4</td>\n",
       "      <td>1</td>\n",
       "      <td>N940CA</td>\n",
       "      <td>ontime</td>\n",
       "    </tr>\n",
       "    <tr>\n",
       "      <th>1</th>\n",
       "      <td>1640</td>\n",
       "      <td>DH</td>\n",
       "      <td>1640</td>\n",
       "      <td>JFK</td>\n",
       "      <td>213</td>\n",
       "      <td>01/01/2004</td>\n",
       "      <td>6155</td>\n",
       "      <td>DCA</td>\n",
       "      <td>0</td>\n",
       "      <td>4</td>\n",
       "      <td>1</td>\n",
       "      <td>N405FJ</td>\n",
       "      <td>ontime</td>\n",
       "    </tr>\n",
       "    <tr>\n",
       "      <th>2</th>\n",
       "      <td>1245</td>\n",
       "      <td>DH</td>\n",
       "      <td>1245</td>\n",
       "      <td>LGA</td>\n",
       "      <td>229</td>\n",
       "      <td>01/01/2004</td>\n",
       "      <td>7208</td>\n",
       "      <td>IAD</td>\n",
       "      <td>0</td>\n",
       "      <td>4</td>\n",
       "      <td>1</td>\n",
       "      <td>N695BR</td>\n",
       "      <td>ontime</td>\n",
       "    </tr>\n",
       "    <tr>\n",
       "      <th>3</th>\n",
       "      <td>1715</td>\n",
       "      <td>DH</td>\n",
       "      <td>1709</td>\n",
       "      <td>LGA</td>\n",
       "      <td>229</td>\n",
       "      <td>01/01/2004</td>\n",
       "      <td>7215</td>\n",
       "      <td>IAD</td>\n",
       "      <td>0</td>\n",
       "      <td>4</td>\n",
       "      <td>1</td>\n",
       "      <td>N662BR</td>\n",
       "      <td>ontime</td>\n",
       "    </tr>\n",
       "    <tr>\n",
       "      <th>4</th>\n",
       "      <td>1039</td>\n",
       "      <td>DH</td>\n",
       "      <td>1035</td>\n",
       "      <td>LGA</td>\n",
       "      <td>229</td>\n",
       "      <td>01/01/2004</td>\n",
       "      <td>7792</td>\n",
       "      <td>IAD</td>\n",
       "      <td>0</td>\n",
       "      <td>4</td>\n",
       "      <td>1</td>\n",
       "      <td>N698BR</td>\n",
       "      <td>ontime</td>\n",
       "    </tr>\n",
       "    <tr>\n",
       "      <th>5</th>\n",
       "      <td>840</td>\n",
       "      <td>DH</td>\n",
       "      <td>839</td>\n",
       "      <td>JFK</td>\n",
       "      <td>228</td>\n",
       "      <td>01/01/2004</td>\n",
       "      <td>7800</td>\n",
       "      <td>IAD</td>\n",
       "      <td>0</td>\n",
       "      <td>4</td>\n",
       "      <td>1</td>\n",
       "      <td>N687BR</td>\n",
       "      <td>ontime</td>\n",
       "    </tr>\n",
       "    <tr>\n",
       "      <th>6</th>\n",
       "      <td>1240</td>\n",
       "      <td>DH</td>\n",
       "      <td>1243</td>\n",
       "      <td>JFK</td>\n",
       "      <td>228</td>\n",
       "      <td>01/01/2004</td>\n",
       "      <td>7806</td>\n",
       "      <td>IAD</td>\n",
       "      <td>0</td>\n",
       "      <td>4</td>\n",
       "      <td>1</td>\n",
       "      <td>N321UE</td>\n",
       "      <td>ontime</td>\n",
       "    </tr>\n",
       "    <tr>\n",
       "      <th>7</th>\n",
       "      <td>1645</td>\n",
       "      <td>DH</td>\n",
       "      <td>1644</td>\n",
       "      <td>JFK</td>\n",
       "      <td>228</td>\n",
       "      <td>01/01/2004</td>\n",
       "      <td>7810</td>\n",
       "      <td>IAD</td>\n",
       "      <td>0</td>\n",
       "      <td>4</td>\n",
       "      <td>1</td>\n",
       "      <td>N301UE</td>\n",
       "      <td>ontime</td>\n",
       "    </tr>\n",
       "  </tbody>\n",
       "</table>\n",
       "</div>"
      ],
      "text/plain": [
       "   CRS_DEP_TIME CARRIER  DEP_TIME DEST  DISTANCE     FL_DATE  FL_NUM ORIGIN  \\\n",
       "0          1455      OH      1455  JFK       184  01/01/2004    5935    BWI   \n",
       "1          1640      DH      1640  JFK       213  01/01/2004    6155    DCA   \n",
       "2          1245      DH      1245  LGA       229  01/01/2004    7208    IAD   \n",
       "3          1715      DH      1709  LGA       229  01/01/2004    7215    IAD   \n",
       "4          1039      DH      1035  LGA       229  01/01/2004    7792    IAD   \n",
       "5           840      DH       839  JFK       228  01/01/2004    7800    IAD   \n",
       "6          1240      DH      1243  JFK       228  01/01/2004    7806    IAD   \n",
       "7          1645      DH      1644  JFK       228  01/01/2004    7810    IAD   \n",
       "\n",
       "   Weather  DAY_WEEK  DAY_OF_MONTH TAIL_NUM Flight Status  \n",
       "0        0         4             1   N940CA        ontime  \n",
       "1        0         4             1   N405FJ        ontime  \n",
       "2        0         4             1   N695BR        ontime  \n",
       "3        0         4             1   N662BR        ontime  \n",
       "4        0         4             1   N698BR        ontime  \n",
       "5        0         4             1   N687BR        ontime  \n",
       "6        0         4             1   N321UE        ontime  \n",
       "7        0         4             1   N301UE        ontime  "
      ]
     },
     "execution_count": 81,
     "metadata": {},
     "output_type": "execute_result"
    }
   ],
   "source": [
    "delays_df.head(8)"
   ]
  },
  {
   "cell_type": "code",
   "execution_count": 82,
   "id": "5065181a",
   "metadata": {},
   "outputs": [],
   "source": [
    "# Replacing spacing with underscore in all column headers\n",
    "delays_df.columns = [s.strip().replace(' ','_') for s in delays_df.columns]"
   ]
  },
  {
   "cell_type": "code",
   "execution_count": 83,
   "id": "db292e49",
   "metadata": {},
   "outputs": [],
   "source": [
    "# https://stackoverflow.com/questions/13851535/how-to-delete-rows-from-a-pandas-dataframe-based-on-a-conditional-expression\n",
    "# Keeping only records with BWI as origin airport\n",
    "delays_df = delays_df.drop(delays_df[(delays_df.ORIGIN != 'BWI')].index)"
   ]
  },
  {
   "cell_type": "code",
   "execution_count": 84,
   "id": "a2a52461",
   "metadata": {},
   "outputs": [
    {
     "data": {
      "text/plain": [
       "(145, 13)"
      ]
     },
     "execution_count": 84,
     "metadata": {},
     "output_type": "execute_result"
    }
   ],
   "source": [
    "delays_df.shape"
   ]
  },
  {
   "cell_type": "code",
   "execution_count": 85,
   "id": "7803a0ca",
   "metadata": {},
   "outputs": [
    {
     "data": {
      "text/html": [
       "<div>\n",
       "<style scoped>\n",
       "    .dataframe tbody tr th:only-of-type {\n",
       "        vertical-align: middle;\n",
       "    }\n",
       "\n",
       "    .dataframe tbody tr th {\n",
       "        vertical-align: top;\n",
       "    }\n",
       "\n",
       "    .dataframe thead th {\n",
       "        text-align: right;\n",
       "    }\n",
       "</style>\n",
       "<table border=\"1\" class=\"dataframe\">\n",
       "  <thead>\n",
       "    <tr style=\"text-align: right;\">\n",
       "      <th></th>\n",
       "      <th>CRS_DEP_TIME</th>\n",
       "      <th>CARRIER</th>\n",
       "      <th>DEP_TIME</th>\n",
       "      <th>DEST</th>\n",
       "      <th>DISTANCE</th>\n",
       "      <th>FL_DATE</th>\n",
       "      <th>FL_NUM</th>\n",
       "      <th>ORIGIN</th>\n",
       "      <th>Weather</th>\n",
       "      <th>DAY_WEEK</th>\n",
       "      <th>DAY_OF_MONTH</th>\n",
       "      <th>TAIL_NUM</th>\n",
       "      <th>Flight_Status</th>\n",
       "    </tr>\n",
       "  </thead>\n",
       "  <tbody>\n",
       "    <tr>\n",
       "      <th>0</th>\n",
       "      <td>1455</td>\n",
       "      <td>OH</td>\n",
       "      <td>1455</td>\n",
       "      <td>JFK</td>\n",
       "      <td>184</td>\n",
       "      <td>01/01/2004</td>\n",
       "      <td>5935</td>\n",
       "      <td>BWI</td>\n",
       "      <td>0</td>\n",
       "      <td>4</td>\n",
       "      <td>1</td>\n",
       "      <td>N940CA</td>\n",
       "      <td>ontime</td>\n",
       "    </tr>\n",
       "    <tr>\n",
       "      <th>32</th>\n",
       "      <td>1455</td>\n",
       "      <td>RU</td>\n",
       "      <td>1452</td>\n",
       "      <td>EWR</td>\n",
       "      <td>169</td>\n",
       "      <td>01/01/2004</td>\n",
       "      <td>2403</td>\n",
       "      <td>BWI</td>\n",
       "      <td>0</td>\n",
       "      <td>4</td>\n",
       "      <td>1</td>\n",
       "      <td>N14916</td>\n",
       "      <td>ontime</td>\n",
       "    </tr>\n",
       "  </tbody>\n",
       "</table>\n",
       "</div>"
      ],
      "text/plain": [
       "    CRS_DEP_TIME CARRIER  DEP_TIME DEST  DISTANCE     FL_DATE  FL_NUM ORIGIN  \\\n",
       "0           1455      OH      1455  JFK       184  01/01/2004    5935    BWI   \n",
       "32          1455      RU      1452  EWR       169  01/01/2004    2403    BWI   \n",
       "\n",
       "    Weather  DAY_WEEK  DAY_OF_MONTH TAIL_NUM Flight_Status  \n",
       "0         0         4             1   N940CA        ontime  \n",
       "32        0         4             1   N14916        ontime  "
      ]
     },
     "execution_count": 85,
     "metadata": {},
     "output_type": "execute_result"
    }
   ],
   "source": [
    "delays_df.head(2)"
   ]
  },
  {
   "cell_type": "code",
   "execution_count": 86,
   "id": "917ac75f",
   "metadata": {},
   "outputs": [],
   "source": [
    "df1 = pd.get_dummies(delays_df['Flight_Status'])\n",
    "# delays_df = pd.get_dummies(delays_df['Flight_Status'])"
   ]
  },
  {
   "cell_type": "code",
   "execution_count": 89,
   "id": "523b5221",
   "metadata": {},
   "outputs": [
    {
     "data": {
      "text/html": [
       "<div>\n",
       "<style scoped>\n",
       "    .dataframe tbody tr th:only-of-type {\n",
       "        vertical-align: middle;\n",
       "    }\n",
       "\n",
       "    .dataframe tbody tr th {\n",
       "        vertical-align: top;\n",
       "    }\n",
       "\n",
       "    .dataframe thead th {\n",
       "        text-align: right;\n",
       "    }\n",
       "</style>\n",
       "<table border=\"1\" class=\"dataframe\">\n",
       "  <thead>\n",
       "    <tr style=\"text-align: right;\">\n",
       "      <th></th>\n",
       "      <th>delayed</th>\n",
       "      <th>ontime</th>\n",
       "    </tr>\n",
       "  </thead>\n",
       "  <tbody>\n",
       "    <tr>\n",
       "      <th>0</th>\n",
       "      <td>0</td>\n",
       "      <td>1</td>\n",
       "    </tr>\n",
       "    <tr>\n",
       "      <th>32</th>\n",
       "      <td>0</td>\n",
       "      <td>1</td>\n",
       "    </tr>\n",
       "    <tr>\n",
       "      <th>33</th>\n",
       "      <td>0</td>\n",
       "      <td>1</td>\n",
       "    </tr>\n",
       "    <tr>\n",
       "      <th>34</th>\n",
       "      <td>0</td>\n",
       "      <td>1</td>\n",
       "    </tr>\n",
       "    <tr>\n",
       "      <th>35</th>\n",
       "      <td>0</td>\n",
       "      <td>1</td>\n",
       "    </tr>\n",
       "    <tr>\n",
       "      <th>...</th>\n",
       "      <td>...</td>\n",
       "      <td>...</td>\n",
       "    </tr>\n",
       "    <tr>\n",
       "      <th>2151</th>\n",
       "      <td>0</td>\n",
       "      <td>1</td>\n",
       "    </tr>\n",
       "    <tr>\n",
       "      <th>2184</th>\n",
       "      <td>0</td>\n",
       "      <td>1</td>\n",
       "    </tr>\n",
       "    <tr>\n",
       "      <th>2185</th>\n",
       "      <td>0</td>\n",
       "      <td>1</td>\n",
       "    </tr>\n",
       "    <tr>\n",
       "      <th>2186</th>\n",
       "      <td>0</td>\n",
       "      <td>1</td>\n",
       "    </tr>\n",
       "    <tr>\n",
       "      <th>2187</th>\n",
       "      <td>0</td>\n",
       "      <td>1</td>\n",
       "    </tr>\n",
       "  </tbody>\n",
       "</table>\n",
       "<p>145 rows × 2 columns</p>\n",
       "</div>"
      ],
      "text/plain": [
       "      delayed  ontime\n",
       "0           0       1\n",
       "32          0       1\n",
       "33          0       1\n",
       "34          0       1\n",
       "35          0       1\n",
       "...       ...     ...\n",
       "2151        0       1\n",
       "2184        0       1\n",
       "2185        0       1\n",
       "2186        0       1\n",
       "2187        0       1\n",
       "\n",
       "[145 rows x 2 columns]"
      ]
     },
     "execution_count": 89,
     "metadata": {},
     "output_type": "execute_result"
    }
   ],
   "source": [
    "df1"
   ]
  },
  {
   "cell_type": "code",
   "execution_count": 90,
   "id": "dd54c16a",
   "metadata": {},
   "outputs": [],
   "source": [
    "delays_df['delayed'] = df1.delayed "
   ]
  },
  {
   "cell_type": "code",
   "execution_count": 92,
   "id": "9a6776fb",
   "metadata": {},
   "outputs": [],
   "source": [
    "delays_df['ontime'] = df1.ontime"
   ]
  },
  {
   "cell_type": "code",
   "execution_count": 100,
   "id": "9d408e7b",
   "metadata": {},
   "outputs": [
    {
     "data": {
      "text/html": [
       "<div>\n",
       "<style scoped>\n",
       "    .dataframe tbody tr th:only-of-type {\n",
       "        vertical-align: middle;\n",
       "    }\n",
       "\n",
       "    .dataframe tbody tr th {\n",
       "        vertical-align: top;\n",
       "    }\n",
       "\n",
       "    .dataframe thead th {\n",
       "        text-align: right;\n",
       "    }\n",
       "</style>\n",
       "<table border=\"1\" class=\"dataframe\">\n",
       "  <thead>\n",
       "    <tr style=\"text-align: right;\">\n",
       "      <th></th>\n",
       "      <th>CRS_DEP_TIME</th>\n",
       "      <th>CARRIER</th>\n",
       "      <th>DEP_TIME</th>\n",
       "      <th>DEST</th>\n",
       "      <th>DISTANCE</th>\n",
       "      <th>FL_DATE</th>\n",
       "      <th>FL_NUM</th>\n",
       "      <th>ORIGIN</th>\n",
       "      <th>Weather</th>\n",
       "      <th>DAY_WEEK</th>\n",
       "      <th>DAY_OF_MONTH</th>\n",
       "      <th>TAIL_NUM</th>\n",
       "      <th>Flight_Status</th>\n",
       "      <th>delayed</th>\n",
       "      <th>ontime</th>\n",
       "    </tr>\n",
       "  </thead>\n",
       "  <tbody>\n",
       "    <tr>\n",
       "      <th>0</th>\n",
       "      <td>1455</td>\n",
       "      <td>OH</td>\n",
       "      <td>1455</td>\n",
       "      <td>JFK</td>\n",
       "      <td>184</td>\n",
       "      <td>01/01/2004</td>\n",
       "      <td>5935</td>\n",
       "      <td>BWI</td>\n",
       "      <td>0</td>\n",
       "      <td>4</td>\n",
       "      <td>1</td>\n",
       "      <td>N940CA</td>\n",
       "      <td>ontime</td>\n",
       "      <td>0</td>\n",
       "      <td>1</td>\n",
       "    </tr>\n",
       "    <tr>\n",
       "      <th>32</th>\n",
       "      <td>1455</td>\n",
       "      <td>RU</td>\n",
       "      <td>1452</td>\n",
       "      <td>EWR</td>\n",
       "      <td>169</td>\n",
       "      <td>01/01/2004</td>\n",
       "      <td>2403</td>\n",
       "      <td>BWI</td>\n",
       "      <td>0</td>\n",
       "      <td>4</td>\n",
       "      <td>1</td>\n",
       "      <td>N14916</td>\n",
       "      <td>ontime</td>\n",
       "      <td>0</td>\n",
       "      <td>1</td>\n",
       "    </tr>\n",
       "    <tr>\n",
       "      <th>33</th>\n",
       "      <td>1720</td>\n",
       "      <td>RU</td>\n",
       "      <td>1710</td>\n",
       "      <td>EWR</td>\n",
       "      <td>169</td>\n",
       "      <td>01/01/2004</td>\n",
       "      <td>2675</td>\n",
       "      <td>BWI</td>\n",
       "      <td>0</td>\n",
       "      <td>4</td>\n",
       "      <td>1</td>\n",
       "      <td>N16954</td>\n",
       "      <td>ontime</td>\n",
       "      <td>0</td>\n",
       "      <td>1</td>\n",
       "    </tr>\n",
       "    <tr>\n",
       "      <th>34</th>\n",
       "      <td>1030</td>\n",
       "      <td>RU</td>\n",
       "      <td>1030</td>\n",
       "      <td>EWR</td>\n",
       "      <td>169</td>\n",
       "      <td>01/01/2004</td>\n",
       "      <td>2303</td>\n",
       "      <td>BWI</td>\n",
       "      <td>0</td>\n",
       "      <td>4</td>\n",
       "      <td>1</td>\n",
       "      <td>N26549</td>\n",
       "      <td>ontime</td>\n",
       "      <td>0</td>\n",
       "      <td>1</td>\n",
       "    </tr>\n",
       "    <tr>\n",
       "      <th>35</th>\n",
       "      <td>700</td>\n",
       "      <td>RU</td>\n",
       "      <td>656</td>\n",
       "      <td>EWR</td>\n",
       "      <td>169</td>\n",
       "      <td>01/01/2004</td>\n",
       "      <td>2703</td>\n",
       "      <td>BWI</td>\n",
       "      <td>0</td>\n",
       "      <td>4</td>\n",
       "      <td>1</td>\n",
       "      <td>N16954</td>\n",
       "      <td>ontime</td>\n",
       "      <td>0</td>\n",
       "      <td>1</td>\n",
       "    </tr>\n",
       "    <tr>\n",
       "      <th>50</th>\n",
       "      <td>1455</td>\n",
       "      <td>OH</td>\n",
       "      <td>1455</td>\n",
       "      <td>JFK</td>\n",
       "      <td>184</td>\n",
       "      <td>01/02/2004</td>\n",
       "      <td>5935</td>\n",
       "      <td>BWI</td>\n",
       "      <td>0</td>\n",
       "      <td>5</td>\n",
       "      <td>2</td>\n",
       "      <td>N995CA</td>\n",
       "      <td>ontime</td>\n",
       "      <td>0</td>\n",
       "      <td>1</td>\n",
       "    </tr>\n",
       "    <tr>\n",
       "      <th>88</th>\n",
       "      <td>1720</td>\n",
       "      <td>RU</td>\n",
       "      <td>1715</td>\n",
       "      <td>EWR</td>\n",
       "      <td>169</td>\n",
       "      <td>01/02/2004</td>\n",
       "      <td>2675</td>\n",
       "      <td>BWI</td>\n",
       "      <td>0</td>\n",
       "      <td>5</td>\n",
       "      <td>2</td>\n",
       "      <td>N19966</td>\n",
       "      <td>ontime</td>\n",
       "      <td>0</td>\n",
       "      <td>1</td>\n",
       "    </tr>\n",
       "    <tr>\n",
       "      <th>89</th>\n",
       "      <td>1030</td>\n",
       "      <td>RU</td>\n",
       "      <td>1030</td>\n",
       "      <td>EWR</td>\n",
       "      <td>169</td>\n",
       "      <td>01/02/2004</td>\n",
       "      <td>2303</td>\n",
       "      <td>BWI</td>\n",
       "      <td>0</td>\n",
       "      <td>5</td>\n",
       "      <td>2</td>\n",
       "      <td>N12540</td>\n",
       "      <td>ontime</td>\n",
       "      <td>0</td>\n",
       "      <td>1</td>\n",
       "    </tr>\n",
       "    <tr>\n",
       "      <th>90</th>\n",
       "      <td>700</td>\n",
       "      <td>RU</td>\n",
       "      <td>656</td>\n",
       "      <td>EWR</td>\n",
       "      <td>169</td>\n",
       "      <td>01/02/2004</td>\n",
       "      <td>2703</td>\n",
       "      <td>BWI</td>\n",
       "      <td>0</td>\n",
       "      <td>5</td>\n",
       "      <td>2</td>\n",
       "      <td>N16961</td>\n",
       "      <td>ontime</td>\n",
       "      <td>0</td>\n",
       "      <td>1</td>\n",
       "    </tr>\n",
       "    <tr>\n",
       "      <th>91</th>\n",
       "      <td>1455</td>\n",
       "      <td>RU</td>\n",
       "      <td>1456</td>\n",
       "      <td>EWR</td>\n",
       "      <td>169</td>\n",
       "      <td>01/02/2004</td>\n",
       "      <td>2403</td>\n",
       "      <td>BWI</td>\n",
       "      <td>0</td>\n",
       "      <td>5</td>\n",
       "      <td>2</td>\n",
       "      <td>N12946</td>\n",
       "      <td>ontime</td>\n",
       "      <td>0</td>\n",
       "      <td>1</td>\n",
       "    </tr>\n",
       "    <tr>\n",
       "      <th>145</th>\n",
       "      <td>1720</td>\n",
       "      <td>RU</td>\n",
       "      <td>1714</td>\n",
       "      <td>EWR</td>\n",
       "      <td>169</td>\n",
       "      <td>01/03/2004</td>\n",
       "      <td>2675</td>\n",
       "      <td>BWI</td>\n",
       "      <td>0</td>\n",
       "      <td>6</td>\n",
       "      <td>3</td>\n",
       "      <td>N15574</td>\n",
       "      <td>ontime</td>\n",
       "      <td>0</td>\n",
       "      <td>1</td>\n",
       "    </tr>\n",
       "    <tr>\n",
       "      <th>146</th>\n",
       "      <td>700</td>\n",
       "      <td>RU</td>\n",
       "      <td>655</td>\n",
       "      <td>EWR</td>\n",
       "      <td>169</td>\n",
       "      <td>01/03/2004</td>\n",
       "      <td>2703</td>\n",
       "      <td>BWI</td>\n",
       "      <td>0</td>\n",
       "      <td>6</td>\n",
       "      <td>3</td>\n",
       "      <td>N11536</td>\n",
       "      <td>ontime</td>\n",
       "      <td>0</td>\n",
       "      <td>1</td>\n",
       "    </tr>\n",
       "    <tr>\n",
       "      <th>147</th>\n",
       "      <td>1030</td>\n",
       "      <td>RU</td>\n",
       "      <td>1026</td>\n",
       "      <td>EWR</td>\n",
       "      <td>169</td>\n",
       "      <td>01/03/2004</td>\n",
       "      <td>2303</td>\n",
       "      <td>BWI</td>\n",
       "      <td>0</td>\n",
       "      <td>6</td>\n",
       "      <td>3</td>\n",
       "      <td>N14907</td>\n",
       "      <td>ontime</td>\n",
       "      <td>0</td>\n",
       "      <td>1</td>\n",
       "    </tr>\n",
       "    <tr>\n",
       "      <th>148</th>\n",
       "      <td>1455</td>\n",
       "      <td>RU</td>\n",
       "      <td>1448</td>\n",
       "      <td>EWR</td>\n",
       "      <td>169</td>\n",
       "      <td>01/03/2004</td>\n",
       "      <td>2267</td>\n",
       "      <td>BWI</td>\n",
       "      <td>0</td>\n",
       "      <td>6</td>\n",
       "      <td>3</td>\n",
       "      <td>N14974</td>\n",
       "      <td>ontime</td>\n",
       "      <td>0</td>\n",
       "      <td>1</td>\n",
       "    </tr>\n",
       "    <tr>\n",
       "      <th>163</th>\n",
       "      <td>1455</td>\n",
       "      <td>OH</td>\n",
       "      <td>1605</td>\n",
       "      <td>JFK</td>\n",
       "      <td>184</td>\n",
       "      <td>01/04/2004</td>\n",
       "      <td>5935</td>\n",
       "      <td>BWI</td>\n",
       "      <td>0</td>\n",
       "      <td>7</td>\n",
       "      <td>4</td>\n",
       "      <td>N973CA</td>\n",
       "      <td>delayed</td>\n",
       "      <td>1</td>\n",
       "      <td>0</td>\n",
       "    </tr>\n",
       "  </tbody>\n",
       "</table>\n",
       "</div>"
      ],
      "text/plain": [
       "     CRS_DEP_TIME CARRIER  DEP_TIME DEST  DISTANCE     FL_DATE  FL_NUM ORIGIN  \\\n",
       "0            1455      OH      1455  JFK       184  01/01/2004    5935    BWI   \n",
       "32           1455      RU      1452  EWR       169  01/01/2004    2403    BWI   \n",
       "33           1720      RU      1710  EWR       169  01/01/2004    2675    BWI   \n",
       "34           1030      RU      1030  EWR       169  01/01/2004    2303    BWI   \n",
       "35            700      RU       656  EWR       169  01/01/2004    2703    BWI   \n",
       "50           1455      OH      1455  JFK       184  01/02/2004    5935    BWI   \n",
       "88           1720      RU      1715  EWR       169  01/02/2004    2675    BWI   \n",
       "89           1030      RU      1030  EWR       169  01/02/2004    2303    BWI   \n",
       "90            700      RU       656  EWR       169  01/02/2004    2703    BWI   \n",
       "91           1455      RU      1456  EWR       169  01/02/2004    2403    BWI   \n",
       "145          1720      RU      1714  EWR       169  01/03/2004    2675    BWI   \n",
       "146           700      RU       655  EWR       169  01/03/2004    2703    BWI   \n",
       "147          1030      RU      1026  EWR       169  01/03/2004    2303    BWI   \n",
       "148          1455      RU      1448  EWR       169  01/03/2004    2267    BWI   \n",
       "163          1455      OH      1605  JFK       184  01/04/2004    5935    BWI   \n",
       "\n",
       "     Weather  DAY_WEEK  DAY_OF_MONTH TAIL_NUM Flight_Status  delayed  ontime  \n",
       "0          0         4             1   N940CA        ontime        0       1  \n",
       "32         0         4             1   N14916        ontime        0       1  \n",
       "33         0         4             1   N16954        ontime        0       1  \n",
       "34         0         4             1   N26549        ontime        0       1  \n",
       "35         0         4             1   N16954        ontime        0       1  \n",
       "50         0         5             2   N995CA        ontime        0       1  \n",
       "88         0         5             2   N19966        ontime        0       1  \n",
       "89         0         5             2   N12540        ontime        0       1  \n",
       "90         0         5             2   N16961        ontime        0       1  \n",
       "91         0         5             2   N12946        ontime        0       1  \n",
       "145        0         6             3   N15574        ontime        0       1  \n",
       "146        0         6             3   N11536        ontime        0       1  \n",
       "147        0         6             3   N14907        ontime        0       1  \n",
       "148        0         6             3   N14974        ontime        0       1  \n",
       "163        0         7             4   N973CA       delayed        1       0  "
      ]
     },
     "execution_count": 100,
     "metadata": {},
     "output_type": "execute_result"
    }
   ],
   "source": [
    "delays_df.head(15)"
   ]
  },
  {
   "cell_type": "code",
   "execution_count": 94,
   "id": "76a44a10",
   "metadata": {},
   "outputs": [
    {
     "data": {
      "text/plain": [
       "<AxesSubplot:xlabel='DEP_TIME', ylabel='DEST'>"
      ]
     },
     "execution_count": 94,
     "metadata": {},
     "output_type": "execute_result"
    },
    {
     "data": {
      "image/png": "[encoded data removed]",
      "text/plain": [
       "<Figure size 640x480 with 1 Axes>"
      ]
     },
     "metadata": {},
     "output_type": "display_data"
    }
   ],
   "source": [
    "# Scatterplot\n",
    "delays_df.plot.scatter(x='DEP_TIME', y='DEST', c=['C0' if c == 'ontime' else 'C1' for c in delays_df.Flight_Status])\n",
    "# We can clearly observe the departure time frames towards each ariport and notice that they both have delays in the data set. "
   ]
  },
  {
   "cell_type": "code",
   "execution_count": 95,
   "id": "dabbd5bb",
   "metadata": {},
   "outputs": [
    {
     "data": {
      "text/plain": [
       "<AxesSubplot:>"
      ]
     },
     "execution_count": 95,
     "metadata": {},
     "output_type": "execute_result"
    },
    {
     "data": {
      "image/png": "[encoded data removed]",
      "text/plain": [
       "<Figure size 1100x700 with 2 Axes>"
      ]
     },
     "metadata": {},
     "output_type": "display_data"
    }
   ],
   "source": [
    "import seaborn as sns\n",
    "corr = delays_df.corr()\n",
    "fig, ax = plt.subplots()\n",
    "fig.set_size_inches(11, 7)\n",
    "sns.heatmap(corr, annot=True, fmt=\".1f\", cmap=\"RdBu\", center=0, ax=ax)\n",
    "# CRS_DEP_TIME and DEP_TIME are highly correlated.\n",
    "# DISTANCE and FL_NUM are highly correlated."
   ]
  },
  {
   "cell_type": "code",
   "execution_count": 96,
   "id": "fb7a4b69",
   "metadata": {},
   "outputs": [
    {
     "data": {
      "text/plain": [
       "Text(0.5, 0.98, 'Flight Frequency by Hour')"
      ]
     },
     "execution_count": 96,
     "metadata": {},
     "output_type": "execute_result"
    },
    {
     "data": {
      "image/png": "[encoded data removed]",
      "text/plain": [
       "<Figure size 640x480 with 1 Axes>"
      ]
     },
     "metadata": {},
     "output_type": "display_data"
    }
   ],
   "source": [
    "#Pandas version - Histrogam Distribution\n",
    "ax = delays_df.CRS_DEP_TIME.hist()\n",
    "ax.set_xlabel('CRS_DEP_TIME'); ax.set_ylabel('count');\n",
    "plt.suptitle('Flight Frequency by Hour')"
   ]
  },
  {
   "cell_type": "code",
   "execution_count": 106,
   "id": "938e4c7c",
   "metadata": {},
   "outputs": [
    {
     "data": {
      "text/plain": [
       "Text(0.5, 0.98, 'Flights per month from BWI to New York airports')"
      ]
     },
     "execution_count": 106,
     "metadata": {},
     "output_type": "execute_result"
    },
    {
     "data": {
      "image/png": "[encoded data removed]",
      "text/plain": [
       "<Figure size 640x480 with 1 Axes>"
      ]
     },
     "metadata": {},
     "output_type": "display_data"
    }
   ],
   "source": [
    "#Matplot version - bar chart\n",
    "dataForPlot = delays_df.groupby('CARRIER').count().Flight_Status\n",
    "fig, ax = plt.subplots()\n",
    "ax.bar(dataForPlot.index, dataForPlot, color=['C8','C1'])\n",
    "ax.set_xlabel('Carrier')\n",
    "ax.set_ylabel('Count of Flights')\n",
    "plt.suptitle('Flights per month from BWI to New York airports')"
   ]
  },
  {
   "cell_type": "code",
   "execution_count": 110,
   "id": "5317eec6",
   "metadata": {},
   "outputs": [
    {
     "data": {
      "text/plain": [
       "Text(0.5, 0.98, 'Average delays from BWI to New York airports per Carrier')"
      ]
     },
     "execution_count": 110,
     "metadata": {},
     "output_type": "execute_result"
    },
    {
     "data": {
      "image/png": "[encoded data removed]",
      "text/plain": [
       "<Figure size 640x480 with 1 Axes>"
      ]
     },
     "metadata": {},
     "output_type": "display_data"
    }
   ],
   "source": [
    "#Matplot version - bar chart\n",
    "dataForPlot = delays_df.groupby('CARRIER').mean().delayed\n",
    "fig, ax = plt.subplots()\n",
    "ax.bar(dataForPlot.index, dataForPlot, color=['C8','C1'])\n",
    "ax.set_xlabel('Carrier')\n",
    "ax.set_ylabel('Average Delays (from 0 to 1)')\n",
    "plt.suptitle('Average delays from BWI to New York airports per Carrier')"
   ]
  },
  {
   "cell_type": "code",
   "execution_count": 109,
   "id": "3d762365",
   "metadata": {},
   "outputs": [
    {
     "data": {
      "text/plain": [
       "Text(0.5, 0.98, 'Average delays from BWI to New York airports')"
      ]
     },
     "execution_count": 109,
     "metadata": {},
     "output_type": "execute_result"
    },
    {
     "data": {
      "image/png": "[encoded data removed]",
      "text/plain": [
       "<Figure size 640x480 with 1 Axes>"
      ]
     },
     "metadata": {},
     "output_type": "display_data"
    }
   ],
   "source": [
    "#Matplot version - bar chart\n",
    "dataForPlot = delays_df.groupby('DEST').mean().delayed\n",
    "fig, ax = plt.subplots()\n",
    "ax.bar(dataForPlot.index, dataForPlot, color=['C8','C1'])\n",
    "ax.set_xlabel('Destination Airport')\n",
    "ax.set_ylabel('Average Delays (from 0 to 1)')\n",
    "plt.suptitle('Average delays from BWI to New York airports')"
   ]
  },
  {
   "cell_type": "code",
   "execution_count": 111,
   "id": "c6662720",
   "metadata": {},
   "outputs": [
    {
     "data": {
      "text/html": [
       "<div>\n",
       "<style scoped>\n",
       "    .dataframe tbody tr th:only-of-type {\n",
       "        vertical-align: middle;\n",
       "    }\n",
       "\n",
       "    .dataframe tbody tr th {\n",
       "        vertical-align: top;\n",
       "    }\n",
       "\n",
       "    .dataframe thead th {\n",
       "        text-align: right;\n",
       "    }\n",
       "</style>\n",
       "<table border=\"1\" class=\"dataframe\">\n",
       "  <thead>\n",
       "    <tr style=\"text-align: right;\">\n",
       "      <th></th>\n",
       "      <th>CRS_DEP_TIME</th>\n",
       "      <th>DEP_TIME</th>\n",
       "      <th>DISTANCE</th>\n",
       "      <th>FL_NUM</th>\n",
       "      <th>Weather</th>\n",
       "      <th>DAY_WEEK</th>\n",
       "      <th>DAY_OF_MONTH</th>\n",
       "      <th>delayed</th>\n",
       "      <th>ontime</th>\n",
       "    </tr>\n",
       "  </thead>\n",
       "  <tbody>\n",
       "    <tr>\n",
       "      <th>count</th>\n",
       "      <td>145.000000</td>\n",
       "      <td>145.000000</td>\n",
       "      <td>145.000000</td>\n",
       "      <td>145.000000</td>\n",
       "      <td>145.000000</td>\n",
       "      <td>145.000000</td>\n",
       "      <td>145.000000</td>\n",
       "      <td>145.000000</td>\n",
       "      <td>145.000000</td>\n",
       "    </tr>\n",
       "    <tr>\n",
       "      <th>mean</th>\n",
       "      <td>1291.551724</td>\n",
       "      <td>1309.441379</td>\n",
       "      <td>172.103448</td>\n",
       "      <td>3333.344828</td>\n",
       "      <td>0.006897</td>\n",
       "      <td>4.179310</td>\n",
       "      <td>15.710345</td>\n",
       "      <td>0.255172</td>\n",
       "      <td>0.744828</td>\n",
       "    </tr>\n",
       "    <tr>\n",
       "      <th>std</th>\n",
       "      <td>344.016067</td>\n",
       "      <td>369.794479</td>\n",
       "      <td>6.097272</td>\n",
       "      <td>1380.654582</td>\n",
       "      <td>0.083045</td>\n",
       "      <td>1.913653</td>\n",
       "      <td>8.892035</td>\n",
       "      <td>0.437469</td>\n",
       "      <td>0.437469</td>\n",
       "    </tr>\n",
       "    <tr>\n",
       "      <th>min</th>\n",
       "      <td>700.000000</td>\n",
       "      <td>653.000000</td>\n",
       "      <td>169.000000</td>\n",
       "      <td>2229.000000</td>\n",
       "      <td>0.000000</td>\n",
       "      <td>1.000000</td>\n",
       "      <td>1.000000</td>\n",
       "      <td>0.000000</td>\n",
       "      <td>0.000000</td>\n",
       "    </tr>\n",
       "    <tr>\n",
       "      <th>25%</th>\n",
       "      <td>1030.000000</td>\n",
       "      <td>1030.000000</td>\n",
       "      <td>169.000000</td>\n",
       "      <td>2403.000000</td>\n",
       "      <td>0.000000</td>\n",
       "      <td>3.000000</td>\n",
       "      <td>8.000000</td>\n",
       "      <td>0.000000</td>\n",
       "      <td>0.000000</td>\n",
       "    </tr>\n",
       "    <tr>\n",
       "      <th>50%</th>\n",
       "      <td>1455.000000</td>\n",
       "      <td>1452.000000</td>\n",
       "      <td>169.000000</td>\n",
       "      <td>2703.000000</td>\n",
       "      <td>0.000000</td>\n",
       "      <td>4.000000</td>\n",
       "      <td>16.000000</td>\n",
       "      <td>0.000000</td>\n",
       "      <td>1.000000</td>\n",
       "    </tr>\n",
       "    <tr>\n",
       "      <th>75%</th>\n",
       "      <td>1455.000000</td>\n",
       "      <td>1527.000000</td>\n",
       "      <td>169.000000</td>\n",
       "      <td>3372.000000</td>\n",
       "      <td>0.000000</td>\n",
       "      <td>6.000000</td>\n",
       "      <td>23.000000</td>\n",
       "      <td>1.000000</td>\n",
       "      <td>1.000000</td>\n",
       "    </tr>\n",
       "    <tr>\n",
       "      <th>max</th>\n",
       "      <td>1720.000000</td>\n",
       "      <td>2030.000000</td>\n",
       "      <td>184.000000</td>\n",
       "      <td>5935.000000</td>\n",
       "      <td>1.000000</td>\n",
       "      <td>7.000000</td>\n",
       "      <td>31.000000</td>\n",
       "      <td>1.000000</td>\n",
       "      <td>1.000000</td>\n",
       "    </tr>\n",
       "  </tbody>\n",
       "</table>\n",
       "</div>"
      ],
      "text/plain": [
       "       CRS_DEP_TIME     DEP_TIME    DISTANCE       FL_NUM     Weather  \\\n",
       "count    145.000000   145.000000  145.000000   145.000000  145.000000   \n",
       "mean    1291.551724  1309.441379  172.103448  3333.344828    0.006897   \n",
       "std      344.016067   369.794479    6.097272  1380.654582    0.083045   \n",
       "min      700.000000   653.000000  169.000000  2229.000000    0.000000   \n",
       "25%     1030.000000  1030.000000  169.000000  2403.000000    0.000000   \n",
       "50%     1455.000000  1452.000000  169.000000  2703.000000    0.000000   \n",
       "75%     1455.000000  1527.000000  169.000000  3372.000000    0.000000   \n",
       "max     1720.000000  2030.000000  184.000000  5935.000000    1.000000   \n",
       "\n",
       "         DAY_WEEK  DAY_OF_MONTH     delayed      ontime  \n",
       "count  145.000000    145.000000  145.000000  145.000000  \n",
       "mean     4.179310     15.710345    0.255172    0.744828  \n",
       "std      1.913653      8.892035    0.437469    0.437469  \n",
       "min      1.000000      1.000000    0.000000    0.000000  \n",
       "25%      3.000000      8.000000    0.000000    0.000000  \n",
       "50%      4.000000     16.000000    0.000000    1.000000  \n",
       "75%      6.000000     23.000000    1.000000    1.000000  \n",
       "max      7.000000     31.000000    1.000000    1.000000  "
      ]
     },
     "execution_count": 111,
     "metadata": {},
     "output_type": "execute_result"
    }
   ],
   "source": [
    "delays_df.describe()"
   ]
  },
  {
   "cell_type": "code",
   "execution_count": 125,
   "id": "0fae49c9",
   "metadata": {},
   "outputs": [
    {
     "name": "stdout",
     "output_type": "stream",
     "text": [
      "The Mean of delayed flights from BWI to New York airports is:  26.0%\n",
      "The number of missing values:  CRS_DEP_TIME     0\n",
      "CARRIER          0\n",
      "DEP_TIME         0\n",
      "DEST             0\n",
      "DISTANCE         0\n",
      "FL_DATE          0\n",
      "FL_NUM           0\n",
      "ORIGIN           0\n",
      "Weather          0\n",
      "DAY_WEEK         0\n",
      "DAY_OF_MONTH     0\n",
      "TAIL_NUM         0\n",
      "Flight_Status    0\n",
      "delayed          0\n",
      "ontime           0\n",
      "dtype: int64\n"
     ]
    }
   ],
   "source": [
    "print('The Mean of delayed flights from BWI to New York airports is: ', str(round(delays_df.delayed.mean(),2)*100) + '%')\n",
    "\n",
    "print('The number of missing values: ', delays_df.isnull().sum())"
   ]
  },
  {
   "cell_type": "code",
   "execution_count": 126,
   "id": "d2fff42f",
   "metadata": {},
   "outputs": [
    {
     "data": {
      "text/plain": [
       "DEST  CARRIER\n",
       "EWR   RU         0.286957\n",
       "JFK   OH         0.133333\n",
       "Name: delayed, dtype: float64"
      ]
     },
     "execution_count": 126,
     "metadata": {},
     "output_type": "execute_result"
    }
   ],
   "source": [
    "delays_df.groupby(['DEST', 'CARRIER'])['delayed'].mean()\n",
    "# We can see that RU flies ontly to Newark and OH flies only to JFK. \n",
    "# We can see that RU has a bigger average delay rate."
   ]
  },
  {
   "cell_type": "markdown",
   "id": "972ae71d",
   "metadata": {},
   "source": [
    "# Naives Bayes Classifier"
   ]
  },
  {
   "cell_type": "code",
   "execution_count": 139,
   "id": "fbe48ac0",
   "metadata": {},
   "outputs": [],
   "source": [
    "delays_df.DAY_WEEK = delays_df.DAY_WEEK.astype('category')"
   ]
  },
  {
   "cell_type": "code",
   "execution_count": 140,
   "id": "2fd67004",
   "metadata": {},
   "outputs": [],
   "source": [
    "#Split the data into training (60%) and testing (40%)\n",
    "predictors = ['DAY_WEEK', 'CRS_DEP_TIME', 'DEST', 'CARRIER']\n",
    "outcome = 'Flight_Status'"
   ]
  },
  {
   "cell_type": "code",
   "execution_count": 141,
   "id": "566ffb9a",
   "metadata": {},
   "outputs": [],
   "source": [
    "X = pd.get_dummies(delays_df[predictors])\n",
    "y = delays_df['Flight_Status']\n",
    "classes = ['ontime', 'delayed']"
   ]
  },
  {
   "cell_type": "code",
   "execution_count": 147,
   "id": "06eb9acb",
   "metadata": {},
   "outputs": [
    {
     "data": {
      "text/html": [
       "<div>\n",
       "<style scoped>\n",
       "    .dataframe tbody tr th:only-of-type {\n",
       "        vertical-align: middle;\n",
       "    }\n",
       "\n",
       "    .dataframe tbody tr th {\n",
       "        vertical-align: top;\n",
       "    }\n",
       "\n",
       "    .dataframe thead th {\n",
       "        text-align: right;\n",
       "    }\n",
       "</style>\n",
       "<table border=\"1\" class=\"dataframe\">\n",
       "  <thead>\n",
       "    <tr style=\"text-align: right;\">\n",
       "      <th></th>\n",
       "      <th>CRS_DEP_TIME</th>\n",
       "      <th>DAY_WEEK_1</th>\n",
       "      <th>DAY_WEEK_2</th>\n",
       "      <th>DAY_WEEK_3</th>\n",
       "      <th>DAY_WEEK_4</th>\n",
       "      <th>DAY_WEEK_5</th>\n",
       "      <th>DAY_WEEK_6</th>\n",
       "      <th>DAY_WEEK_7</th>\n",
       "      <th>DEST_EWR</th>\n",
       "      <th>DEST_JFK</th>\n",
       "      <th>CARRIER_OH</th>\n",
       "      <th>CARRIER_RU</th>\n",
       "    </tr>\n",
       "  </thead>\n",
       "  <tbody>\n",
       "    <tr>\n",
       "      <th>0</th>\n",
       "      <td>1455</td>\n",
       "      <td>0</td>\n",
       "      <td>0</td>\n",
       "      <td>0</td>\n",
       "      <td>1</td>\n",
       "      <td>0</td>\n",
       "      <td>0</td>\n",
       "      <td>0</td>\n",
       "      <td>0</td>\n",
       "      <td>1</td>\n",
       "      <td>1</td>\n",
       "      <td>0</td>\n",
       "    </tr>\n",
       "    <tr>\n",
       "      <th>32</th>\n",
       "      <td>1455</td>\n",
       "      <td>0</td>\n",
       "      <td>0</td>\n",
       "      <td>0</td>\n",
       "      <td>1</td>\n",
       "      <td>0</td>\n",
       "      <td>0</td>\n",
       "      <td>0</td>\n",
       "      <td>1</td>\n",
       "      <td>0</td>\n",
       "      <td>0</td>\n",
       "      <td>1</td>\n",
       "    </tr>\n",
       "    <tr>\n",
       "      <th>33</th>\n",
       "      <td>1720</td>\n",
       "      <td>0</td>\n",
       "      <td>0</td>\n",
       "      <td>0</td>\n",
       "      <td>1</td>\n",
       "      <td>0</td>\n",
       "      <td>0</td>\n",
       "      <td>0</td>\n",
       "      <td>1</td>\n",
       "      <td>0</td>\n",
       "      <td>0</td>\n",
       "      <td>1</td>\n",
       "    </tr>\n",
       "    <tr>\n",
       "      <th>34</th>\n",
       "      <td>1030</td>\n",
       "      <td>0</td>\n",
       "      <td>0</td>\n",
       "      <td>0</td>\n",
       "      <td>1</td>\n",
       "      <td>0</td>\n",
       "      <td>0</td>\n",
       "      <td>0</td>\n",
       "      <td>1</td>\n",
       "      <td>0</td>\n",
       "      <td>0</td>\n",
       "      <td>1</td>\n",
       "    </tr>\n",
       "    <tr>\n",
       "      <th>35</th>\n",
       "      <td>700</td>\n",
       "      <td>0</td>\n",
       "      <td>0</td>\n",
       "      <td>0</td>\n",
       "      <td>1</td>\n",
       "      <td>0</td>\n",
       "      <td>0</td>\n",
       "      <td>0</td>\n",
       "      <td>1</td>\n",
       "      <td>0</td>\n",
       "      <td>0</td>\n",
       "      <td>1</td>\n",
       "    </tr>\n",
       "  </tbody>\n",
       "</table>\n",
       "</div>"
      ],
      "text/plain": [
       "    CRS_DEP_TIME  DAY_WEEK_1  DAY_WEEK_2  DAY_WEEK_3  DAY_WEEK_4  DAY_WEEK_5  \\\n",
       "0           1455           0           0           0           1           0   \n",
       "32          1455           0           0           0           1           0   \n",
       "33          1720           0           0           0           1           0   \n",
       "34          1030           0           0           0           1           0   \n",
       "35           700           0           0           0           1           0   \n",
       "\n",
       "    DAY_WEEK_6  DAY_WEEK_7  DEST_EWR  DEST_JFK  CARRIER_OH  CARRIER_RU  \n",
       "0            0           0         0         1           1           0  \n",
       "32           0           0         1         0           0           1  \n",
       "33           0           0         1         0           0           1  \n",
       "34           0           0         1         0           0           1  \n",
       "35           0           0         1         0           0           1  "
      ]
     },
     "execution_count": 147,
     "metadata": {},
     "output_type": "execute_result"
    }
   ],
   "source": [
    "X.head(5)"
   ]
  },
  {
   "cell_type": "code",
   "execution_count": 143,
   "id": "dbb844c6",
   "metadata": {},
   "outputs": [],
   "source": [
    "# split into training and validation\n",
    "X_train, X_valid, y_train, y_valid = train_test_split(X, y, test_size=0.40, random_state=1)"
   ]
  },
  {
   "cell_type": "code",
   "execution_count": 144,
   "id": "b416cd20",
   "metadata": {},
   "outputs": [
    {
     "data": {
      "text/plain": [
       "MultinomialNB(alpha=1)"
      ]
     },
     "execution_count": 144,
     "metadata": {},
     "output_type": "execute_result"
    }
   ],
   "source": [
    "# run naive Bayes\n",
    "delays_nb = MultinomialNB(alpha=1)\n",
    "delays_nb.fit(X_train, y_train)"
   ]
  },
  {
   "cell_type": "code",
   "execution_count": 145,
   "id": "80b685f6",
   "metadata": {},
   "outputs": [],
   "source": [
    "# predict probabilities (Shows the belonging probabilities of each record to which class)\n",
    "predProb_train = delays_nb.predict_proba(X_train)\n",
    "predProb_valid = delays_nb.predict_proba(X_valid)"
   ]
  },
  {
   "cell_type": "code",
   "execution_count": 146,
   "id": "c9ea80d4",
   "metadata": {},
   "outputs": [],
   "source": [
    "# predict class membership (shows the class instead of probability by selecting the class with \n",
    "# highest probability)\n",
    "y_train_pred = delays_nb.predict(X_train)\n",
    "y_valid_pred = delays_nb.predict(X_valid)"
   ]
  },
  {
   "cell_type": "code",
   "execution_count": 218,
   "id": "bbd994f5",
   "metadata": {},
   "outputs": [],
   "source": [
    "# Use the model to predict a new data\n",
    "df = pd.concat([pd.DataFrame({'actual': y_valid, 'predicted': y_valid_pred})], axis=1)\n",
    "mask = ((X_valid.CARRIER_OH == 1) & (X_valid.DAY_WEEK_1 == 1)) "
   ]
  },
  {
   "cell_type": "code",
   "execution_count": 219,
   "id": "20033089",
   "metadata": {},
   "outputs": [
    {
     "name": "stdout",
     "output_type": "stream",
     "text": [
      "       actual predicted\n",
      "759    ontime    ontime\n",
      "226   delayed    ontime\n",
      "1800   ontime    ontime\n"
     ]
    }
   ],
   "source": [
    "print(df[mask])"
   ]
  },
  {
   "cell_type": "code",
   "execution_count": 220,
   "id": "61f9d655",
   "metadata": {},
   "outputs": [],
   "source": [
    "# Use the model to predict a new data\n",
    "df = pd.concat([pd.DataFrame({'actual': y_valid, 'predicted': y_valid_pred})], axis=1)\n",
    "mask2 = ((X_valid.CARRIER_RU == 1) & (X_valid.DAY_WEEK_1 == 1)) "
   ]
  },
  {
   "cell_type": "code",
   "execution_count": 221,
   "id": "c86390f8",
   "metadata": {},
   "outputs": [
    {
     "name": "stdout",
     "output_type": "stream",
     "text": [
      "      actual predicted\n",
      "818   ontime   delayed\n",
      "1323  ontime   delayed\n",
      "1848  ontime   delayed\n",
      "1324  ontime   delayed\n"
     ]
    }
   ],
   "source": [
    "print(df[mask2])"
   ]
  },
  {
   "cell_type": "code",
   "execution_count": 222,
   "id": "329935aa",
   "metadata": {},
   "outputs": [],
   "source": [
    "# According to the predictions, the OH carrier flight on Mondays towards JFK is predicted to be ontime. On the other hand\n",
    "# the RU carrier flight on Mondays to EWR is predicted to by delayed.\n",
    "# Therefore, on a Monday it would be better to use the OH carrier towards JFK, instead of the RU carrier that\n",
    "# that flies to EWR. \n",
    "# It's important to notice that it's strange to see that RU carrier to EWR is predicted to be delayed when all 4 flights\n",
    "# were actually ontime. This happens because in the training models, most of the flights covering this route by this airline\n",
    "# were actually delayed. We can observe this in the steps below. \n"
   ]
  },
  {
   "cell_type": "code",
   "execution_count": 223,
   "id": "2581ddaf",
   "metadata": {},
   "outputs": [],
   "source": [
    "# Understainding the training data to explain the strange results from the above ahead. To do this we will run the training data\n",
    "# instead of the valid data.\n",
    "df = pd.concat([pd.DataFrame({'actual': y_train, 'predicted': y_train_pred})], axis=1)\n",
    "mask3 = ((X_train.CARRIER_RU == 1) & (X_train.DAY_WEEK_1 == 1)) "
   ]
  },
  {
   "cell_type": "code",
   "execution_count": 217,
   "id": "fe57b789",
   "metadata": {},
   "outputs": [
    {
     "name": "stdout",
     "output_type": "stream",
     "text": [
      "       actual predicted\n",
      "820    ontime   delayed\n",
      "1847  delayed   delayed\n",
      "819   delayed   delayed\n",
      "1321   ontime   delayed\n",
      "283   delayed   delayed\n",
      "1322   ontime   delayed\n",
      "821    ontime   delayed\n",
      "284   delayed   delayed\n",
      "282   delayed   delayed\n"
     ]
    }
   ],
   "source": [
    "print(df[mask3])"
   ]
  },
  {
   "cell_type": "markdown",
   "id": "c271794b",
   "metadata": {},
   "source": [
    "# K-NN"
   ]
  },
  {
   "cell_type": "code",
   "execution_count": null,
   "id": "36e23f4a",
   "metadata": {},
   "outputs": [],
   "source": [
    "#Now we analyse the flights from BWI to JFK and EWR through the carriers OH and RU on Monday. firstly we look for the flight OH on monday."
   ]
  },
  {
   "cell_type": "code",
   "execution_count": 18,
   "id": "abc88f7d",
   "metadata": {},
   "outputs": [],
   "source": [
    "import pandas as pd\n",
    "from sklearn import preprocessing\n",
    "from sklearn.model_selection import train_test_split\n",
    "from sklearn.metrics import accuracy_score\n",
    "from sklearn.neighbors import NearestNeighbors,KNeighborsClassifier\n",
    "import matplotlib.pylab as plt"
   ]
  },
  {
   "cell_type": "code",
   "execution_count": 19,
   "id": "0c0bbe4c",
   "metadata": {},
   "outputs": [],
   "source": [
    "delays_df = pd.read_excel(\"Flightdelays_1.xlsx\")"
   ]
  },
  {
   "cell_type": "code",
   "execution_count": 20,
   "id": "0d8972bf",
   "metadata": {},
   "outputs": [
    {
     "data": {
      "text/html": [
       "<div>\n",
       "<style scoped>\n",
       "    .dataframe tbody tr th:only-of-type {\n",
       "        vertical-align: middle;\n",
       "    }\n",
       "\n",
       "    .dataframe tbody tr th {\n",
       "        vertical-align: top;\n",
       "    }\n",
       "\n",
       "    .dataframe thead th {\n",
       "        text-align: right;\n",
       "    }\n",
       "</style>\n",
       "<table border=\"1\" class=\"dataframe\">\n",
       "  <thead>\n",
       "    <tr style=\"text-align: right;\">\n",
       "      <th></th>\n",
       "      <th>CARRIER</th>\n",
       "      <th>DEP_TIME</th>\n",
       "      <th>DAY_WEEK</th>\n",
       "      <th>DAY_OF_MONTH</th>\n",
       "      <th>Flight Status</th>\n",
       "      <th>Number</th>\n",
       "    </tr>\n",
       "  </thead>\n",
       "  <tbody>\n",
       "    <tr>\n",
       "      <th>0</th>\n",
       "      <td>OH</td>\n",
       "      <td>1610</td>\n",
       "      <td>1</td>\n",
       "      <td>5</td>\n",
       "      <td>delayed</td>\n",
       "      <td>1</td>\n",
       "    </tr>\n",
       "    <tr>\n",
       "      <th>1</th>\n",
       "      <td>RU</td>\n",
       "      <td>744</td>\n",
       "      <td>1</td>\n",
       "      <td>5</td>\n",
       "      <td>delayed</td>\n",
       "      <td>2</td>\n",
       "    </tr>\n",
       "    <tr>\n",
       "      <th>2</th>\n",
       "      <td>RU</td>\n",
       "      <td>1527</td>\n",
       "      <td>1</td>\n",
       "      <td>5</td>\n",
       "      <td>delayed</td>\n",
       "      <td>3</td>\n",
       "    </tr>\n",
       "    <tr>\n",
       "      <th>3</th>\n",
       "      <td>RU</td>\n",
       "      <td>1221</td>\n",
       "      <td>1</td>\n",
       "      <td>5</td>\n",
       "      <td>delayed</td>\n",
       "      <td>4</td>\n",
       "    </tr>\n",
       "    <tr>\n",
       "      <th>4</th>\n",
       "      <td>OH</td>\n",
       "      <td>1450</td>\n",
       "      <td>1</td>\n",
       "      <td>12</td>\n",
       "      <td>ontime</td>\n",
       "      <td>5</td>\n",
       "    </tr>\n",
       "    <tr>\n",
       "      <th>5</th>\n",
       "      <td>RU</td>\n",
       "      <td>656</td>\n",
       "      <td>1</td>\n",
       "      <td>12</td>\n",
       "      <td>ontime</td>\n",
       "      <td>6</td>\n",
       "    </tr>\n",
       "    <tr>\n",
       "      <th>6</th>\n",
       "      <td>RU</td>\n",
       "      <td>1509</td>\n",
       "      <td>1</td>\n",
       "      <td>12</td>\n",
       "      <td>delayed</td>\n",
       "      <td>7</td>\n",
       "    </tr>\n",
       "    <tr>\n",
       "      <th>7</th>\n",
       "      <td>RU</td>\n",
       "      <td>1720</td>\n",
       "      <td>1</td>\n",
       "      <td>12</td>\n",
       "      <td>ontime</td>\n",
       "      <td>8</td>\n",
       "    </tr>\n",
       "    <tr>\n",
       "      <th>8</th>\n",
       "      <td>RU</td>\n",
       "      <td>1040</td>\n",
       "      <td>1</td>\n",
       "      <td>12</td>\n",
       "      <td>ontime</td>\n",
       "      <td>9</td>\n",
       "    </tr>\n",
       "    <tr>\n",
       "      <th>9</th>\n",
       "      <td>OH</td>\n",
       "      <td>1455</td>\n",
       "      <td>1</td>\n",
       "      <td>19</td>\n",
       "      <td>ontime</td>\n",
       "      <td>10</td>\n",
       "    </tr>\n",
       "    <tr>\n",
       "      <th>10</th>\n",
       "      <td>RU</td>\n",
       "      <td>1710</td>\n",
       "      <td>1</td>\n",
       "      <td>19</td>\n",
       "      <td>ontime</td>\n",
       "      <td>11</td>\n",
       "    </tr>\n",
       "    <tr>\n",
       "      <th>11</th>\n",
       "      <td>RU</td>\n",
       "      <td>1028</td>\n",
       "      <td>1</td>\n",
       "      <td>19</td>\n",
       "      <td>ontime</td>\n",
       "      <td>12</td>\n",
       "    </tr>\n",
       "    <tr>\n",
       "      <th>12</th>\n",
       "      <td>RU</td>\n",
       "      <td>654</td>\n",
       "      <td>1</td>\n",
       "      <td>19</td>\n",
       "      <td>ontime</td>\n",
       "      <td>13</td>\n",
       "    </tr>\n",
       "    <tr>\n",
       "      <th>13</th>\n",
       "      <td>RU</td>\n",
       "      <td>1451</td>\n",
       "      <td>1</td>\n",
       "      <td>19</td>\n",
       "      <td>ontime</td>\n",
       "      <td>14</td>\n",
       "    </tr>\n",
       "    <tr>\n",
       "      <th>14</th>\n",
       "      <td>OH</td>\n",
       "      <td>1500</td>\n",
       "      <td>1</td>\n",
       "      <td>26</td>\n",
       "      <td>ontime</td>\n",
       "      <td>15</td>\n",
       "    </tr>\n",
       "    <tr>\n",
       "      <th>15</th>\n",
       "      <td>RU</td>\n",
       "      <td>1737</td>\n",
       "      <td>1</td>\n",
       "      <td>26</td>\n",
       "      <td>delayed</td>\n",
       "      <td>16</td>\n",
       "    </tr>\n",
       "  </tbody>\n",
       "</table>\n",
       "</div>"
      ],
      "text/plain": [
       "   CARRIER  DEP_TIME  DAY_WEEK  DAY_OF_MONTH Flight Status  Number\n",
       "0       OH      1610         1             5       delayed       1\n",
       "1       RU       744         1             5       delayed       2\n",
       "2       RU      1527         1             5       delayed       3\n",
       "3       RU      1221         1             5       delayed       4\n",
       "4       OH      1450         1            12        ontime       5\n",
       "5       RU       656         1            12        ontime       6\n",
       "6       RU      1509         1            12       delayed       7\n",
       "7       RU      1720         1            12        ontime       8\n",
       "8       RU      1040         1            12        ontime       9\n",
       "9       OH      1455         1            19        ontime      10\n",
       "10      RU      1710         1            19        ontime      11\n",
       "11      RU      1028         1            19        ontime      12\n",
       "12      RU       654         1            19        ontime      13\n",
       "13      RU      1451         1            19        ontime      14\n",
       "14      OH      1500         1            26        ontime      15\n",
       "15      RU      1737         1            26       delayed      16"
      ]
     },
     "execution_count": 20,
     "metadata": {},
     "output_type": "execute_result"
    }
   ],
   "source": [
    "# Adding index and presenting the first 16 data records.\n",
    "delays_df['Number'] = delays_df.index + 1\n",
    "delays_df.head(16)"
   ]
  },
  {
   "cell_type": "code",
   "execution_count": 5,
   "id": "d76e1c92",
   "metadata": {},
   "outputs": [],
   "source": [
    "# Rename the column DAY_WEEK to DAY_OF_WEEK for better understanding of the variable.\n",
    "delays_df.rename(columns = {'DAY_WEEK':'DAY_OF_WEEK'}, inplace = True)"
   ]
  },
  {
   "cell_type": "code",
   "execution_count": 6,
   "id": "111a5c57",
   "metadata": {},
   "outputs": [],
   "source": [
    "delays_df = pd.get_dummies(delays_df, columns=['CARRIER'])"
   ]
  },
  {
   "cell_type": "code",
   "execution_count": 7,
   "id": "9a1bc7dc",
   "metadata": {},
   "outputs": [
    {
     "data": {
      "text/html": [
       "<div>\n",
       "<style scoped>\n",
       "    .dataframe tbody tr th:only-of-type {\n",
       "        vertical-align: middle;\n",
       "    }\n",
       "\n",
       "    .dataframe tbody tr th {\n",
       "        vertical-align: top;\n",
       "    }\n",
       "\n",
       "    .dataframe thead th {\n",
       "        text-align: right;\n",
       "    }\n",
       "</style>\n",
       "<table border=\"1\" class=\"dataframe\">\n",
       "  <thead>\n",
       "    <tr style=\"text-align: right;\">\n",
       "      <th></th>\n",
       "      <th>DEP_TIME</th>\n",
       "      <th>DAY_OF_WEEK</th>\n",
       "      <th>DAY_OF_MONTH</th>\n",
       "      <th>Flight Status</th>\n",
       "      <th>Number</th>\n",
       "      <th>CARRIER_OH</th>\n",
       "      <th>CARRIER_RU</th>\n",
       "    </tr>\n",
       "  </thead>\n",
       "  <tbody>\n",
       "    <tr>\n",
       "      <th>0</th>\n",
       "      <td>1610</td>\n",
       "      <td>1</td>\n",
       "      <td>5</td>\n",
       "      <td>delayed</td>\n",
       "      <td>1</td>\n",
       "      <td>1</td>\n",
       "      <td>0</td>\n",
       "    </tr>\n",
       "    <tr>\n",
       "      <th>1</th>\n",
       "      <td>744</td>\n",
       "      <td>1</td>\n",
       "      <td>5</td>\n",
       "      <td>delayed</td>\n",
       "      <td>2</td>\n",
       "      <td>0</td>\n",
       "      <td>1</td>\n",
       "    </tr>\n",
       "    <tr>\n",
       "      <th>2</th>\n",
       "      <td>1527</td>\n",
       "      <td>1</td>\n",
       "      <td>5</td>\n",
       "      <td>delayed</td>\n",
       "      <td>3</td>\n",
       "      <td>0</td>\n",
       "      <td>1</td>\n",
       "    </tr>\n",
       "    <tr>\n",
       "      <th>3</th>\n",
       "      <td>1221</td>\n",
       "      <td>1</td>\n",
       "      <td>5</td>\n",
       "      <td>delayed</td>\n",
       "      <td>4</td>\n",
       "      <td>0</td>\n",
       "      <td>1</td>\n",
       "    </tr>\n",
       "    <tr>\n",
       "      <th>4</th>\n",
       "      <td>1450</td>\n",
       "      <td>1</td>\n",
       "      <td>12</td>\n",
       "      <td>ontime</td>\n",
       "      <td>5</td>\n",
       "      <td>1</td>\n",
       "      <td>0</td>\n",
       "    </tr>\n",
       "    <tr>\n",
       "      <th>5</th>\n",
       "      <td>656</td>\n",
       "      <td>1</td>\n",
       "      <td>12</td>\n",
       "      <td>ontime</td>\n",
       "      <td>6</td>\n",
       "      <td>0</td>\n",
       "      <td>1</td>\n",
       "    </tr>\n",
       "    <tr>\n",
       "      <th>6</th>\n",
       "      <td>1509</td>\n",
       "      <td>1</td>\n",
       "      <td>12</td>\n",
       "      <td>delayed</td>\n",
       "      <td>7</td>\n",
       "      <td>0</td>\n",
       "      <td>1</td>\n",
       "    </tr>\n",
       "    <tr>\n",
       "      <th>7</th>\n",
       "      <td>1720</td>\n",
       "      <td>1</td>\n",
       "      <td>12</td>\n",
       "      <td>ontime</td>\n",
       "      <td>8</td>\n",
       "      <td>0</td>\n",
       "      <td>1</td>\n",
       "    </tr>\n",
       "    <tr>\n",
       "      <th>8</th>\n",
       "      <td>1040</td>\n",
       "      <td>1</td>\n",
       "      <td>12</td>\n",
       "      <td>ontime</td>\n",
       "      <td>9</td>\n",
       "      <td>0</td>\n",
       "      <td>1</td>\n",
       "    </tr>\n",
       "    <tr>\n",
       "      <th>9</th>\n",
       "      <td>1455</td>\n",
       "      <td>1</td>\n",
       "      <td>19</td>\n",
       "      <td>ontime</td>\n",
       "      <td>10</td>\n",
       "      <td>1</td>\n",
       "      <td>0</td>\n",
       "    </tr>\n",
       "    <tr>\n",
       "      <th>10</th>\n",
       "      <td>1710</td>\n",
       "      <td>1</td>\n",
       "      <td>19</td>\n",
       "      <td>ontime</td>\n",
       "      <td>11</td>\n",
       "      <td>0</td>\n",
       "      <td>1</td>\n",
       "    </tr>\n",
       "    <tr>\n",
       "      <th>11</th>\n",
       "      <td>1028</td>\n",
       "      <td>1</td>\n",
       "      <td>19</td>\n",
       "      <td>ontime</td>\n",
       "      <td>12</td>\n",
       "      <td>0</td>\n",
       "      <td>1</td>\n",
       "    </tr>\n",
       "    <tr>\n",
       "      <th>12</th>\n",
       "      <td>654</td>\n",
       "      <td>1</td>\n",
       "      <td>19</td>\n",
       "      <td>ontime</td>\n",
       "      <td>13</td>\n",
       "      <td>0</td>\n",
       "      <td>1</td>\n",
       "    </tr>\n",
       "    <tr>\n",
       "      <th>13</th>\n",
       "      <td>1451</td>\n",
       "      <td>1</td>\n",
       "      <td>19</td>\n",
       "      <td>ontime</td>\n",
       "      <td>14</td>\n",
       "      <td>0</td>\n",
       "      <td>1</td>\n",
       "    </tr>\n",
       "    <tr>\n",
       "      <th>14</th>\n",
       "      <td>1500</td>\n",
       "      <td>1</td>\n",
       "      <td>26</td>\n",
       "      <td>ontime</td>\n",
       "      <td>15</td>\n",
       "      <td>1</td>\n",
       "      <td>0</td>\n",
       "    </tr>\n",
       "    <tr>\n",
       "      <th>15</th>\n",
       "      <td>1737</td>\n",
       "      <td>1</td>\n",
       "      <td>26</td>\n",
       "      <td>delayed</td>\n",
       "      <td>16</td>\n",
       "      <td>0</td>\n",
       "      <td>1</td>\n",
       "    </tr>\n",
       "    <tr>\n",
       "      <th>16</th>\n",
       "      <td>1504</td>\n",
       "      <td>1</td>\n",
       "      <td>26</td>\n",
       "      <td>ontime</td>\n",
       "      <td>17</td>\n",
       "      <td>0</td>\n",
       "      <td>1</td>\n",
       "    </tr>\n",
       "  </tbody>\n",
       "</table>\n",
       "</div>"
      ],
      "text/plain": [
       "    DEP_TIME  DAY_OF_WEEK  DAY_OF_MONTH Flight Status  Number  CARRIER_OH  \\\n",
       "0       1610            1             5       delayed       1           1   \n",
       "1        744            1             5       delayed       2           0   \n",
       "2       1527            1             5       delayed       3           0   \n",
       "3       1221            1             5       delayed       4           0   \n",
       "4       1450            1            12        ontime       5           1   \n",
       "5        656            1            12        ontime       6           0   \n",
       "6       1509            1            12       delayed       7           0   \n",
       "7       1720            1            12        ontime       8           0   \n",
       "8       1040            1            12        ontime       9           0   \n",
       "9       1455            1            19        ontime      10           1   \n",
       "10      1710            1            19        ontime      11           0   \n",
       "11      1028            1            19        ontime      12           0   \n",
       "12       654            1            19        ontime      13           0   \n",
       "13      1451            1            19        ontime      14           0   \n",
       "14      1500            1            26        ontime      15           1   \n",
       "15      1737            1            26       delayed      16           0   \n",
       "16      1504            1            26        ontime      17           0   \n",
       "\n",
       "    CARRIER_RU  \n",
       "0            0  \n",
       "1            1  \n",
       "2            1  \n",
       "3            1  \n",
       "4            0  \n",
       "5            1  \n",
       "6            1  \n",
       "7            1  \n",
       "8            1  \n",
       "9            0  \n",
       "10           1  \n",
       "11           1  \n",
       "12           1  \n",
       "13           1  \n",
       "14           0  \n",
       "15           1  \n",
       "16           1  "
      ]
     },
     "execution_count": 7,
     "metadata": {},
     "output_type": "execute_result"
    }
   ],
   "source": [
    "delays_df"
   ]
  },
  {
   "cell_type": "code",
   "execution_count": 8,
   "id": "ea365ec5",
   "metadata": {},
   "outputs": [
    {
     "name": "stdout",
     "output_type": "stream",
     "text": [
      "(10, 7) (7, 7)\n"
     ]
    }
   ],
   "source": [
    "#Splitting the data into training (60%) and validation(40%) sets.\n",
    "trainData, validData = train_test_split(delays_df,test_size=0.4, random_state=24)\n",
    "print(trainData.shape, validData.shape)"
   ]
  },
  {
   "cell_type": "code",
   "execution_count": 31,
   "id": "54d3cb29",
   "metadata": {},
   "outputs": [
    {
     "data": {
      "text/html": [
       "<div>\n",
       "<style scoped>\n",
       "    .dataframe tbody tr th:only-of-type {\n",
       "        vertical-align: middle;\n",
       "    }\n",
       "\n",
       "    .dataframe tbody tr th {\n",
       "        vertical-align: top;\n",
       "    }\n",
       "\n",
       "    .dataframe thead th {\n",
       "        text-align: right;\n",
       "    }\n",
       "</style>\n",
       "<table border=\"1\" class=\"dataframe\">\n",
       "  <thead>\n",
       "    <tr style=\"text-align: right;\">\n",
       "      <th></th>\n",
       "      <th>CARRIER_OH</th>\n",
       "      <th>DEP_TIME</th>\n",
       "      <th>DAY_OF_WEEK</th>\n",
       "      <th>DAY_OF_MONTH</th>\n",
       "    </tr>\n",
       "  </thead>\n",
       "  <tbody>\n",
       "    <tr>\n",
       "      <th>0</th>\n",
       "      <td>1</td>\n",
       "      <td>1540</td>\n",
       "      <td>1</td>\n",
       "      <td>10</td>\n",
       "    </tr>\n",
       "  </tbody>\n",
       "</table>\n",
       "</div>"
      ],
      "text/plain": [
       "   CARRIER_OH  DEP_TIME  DAY_OF_WEEK  DAY_OF_MONTH\n",
       "0           1      1540            1            10"
      ]
     },
     "execution_count": 31,
     "metadata": {},
     "output_type": "execute_result"
    }
   ],
   "source": [
    "#Considering a new flight of OH on Monday departing from BWI to JFK on 10th at 1540 hours.\n",
    "newflight = pd.DataFrame([{'CARRIER_OH':1, 'DEP_TIME': 1540, 'DAY_OF_WEEK':1, 'DAY_OF_MONTH':10}])\n",
    "newflight"
   ]
  },
  {
   "cell_type": "code",
   "execution_count": 32,
   "id": "fc8192f5",
   "metadata": {},
   "outputs": [
    {
     "data": {
      "text/plain": [
       "StandardScaler()"
      ]
     },
     "execution_count": 32,
     "metadata": {},
     "output_type": "execute_result"
    }
   ],
   "source": [
    "scaler = preprocessing.StandardScaler()\n",
    "scaler.fit(trainData[['CARRIER_OH','DEP_TIME', 'DAY_OF_WEEK','DAY_OF_MONTH']])"
   ]
  },
  {
   "cell_type": "code",
   "execution_count": 33,
   "id": "6ca37cbd",
   "metadata": {},
   "outputs": [],
   "source": [
    "#Transforming the entire dataset by normalizing.\n",
    "delaysNorm = pd.concat([pd.DataFrame(scaler.transform(delays_df[['CARRIER_OH','DEP_TIME', 'DAY_OF_WEEK','DAY_OF_MONTH']]),columns=['ZCARRIER_OH','ZDEP_TIME', 'ZDAY_OF_WEEK','ZDAY_OF_MONTH']),delays_df[['Flight Status', 'Number']]], axis=1)\n",
    "trainNorm = delaysNorm.iloc[trainData.index]\n",
    "validNorm = delaysNorm.iloc[validData.index]\n",
    "newflightNorm = pd.DataFrame(scaler.transform(newflight), columns=['ZCARRIER_OH','ZDEP_TIME','ZDAY_OF_WEEK','ZDAY_OF_MONTH'])"
   ]
  },
  {
   "cell_type": "code",
   "execution_count": 34,
   "id": "7f2a0615",
   "metadata": {},
   "outputs": [
    {
     "name": "stdout",
     "output_type": "stream",
     "text": [
      "   ZCARRIER_OH  ZDEP_TIME  ZDAY_OF_WEEK  ZDAY_OF_MONTH Flight Status  Number\n",
      "4     1.527525   0.473808           0.0       0.000000        ontime       5\n",
      "0     1.527525   0.936060           0.0      -1.118034       delayed       1\n",
      "9     1.527525   0.488253           0.0       1.118034        ontime      10\n"
     ]
    }
   ],
   "source": [
    "# Use k nearest neighbor against the normalized training data with K=3\n",
    "knn = NearestNeighbors(n_neighbors=3)\n",
    "knn.fit(trainNorm[['ZCARRIER_OH','ZDEP_TIME', 'ZDAY_OF_WEEK','ZDAY_OF_MONTH']])\n",
    "distances, indices = knn.kneighbors(newflightNorm)\n",
    "print(trainNorm.iloc[indices[0], :])"
   ]
  },
  {
   "cell_type": "code",
   "execution_count": 35,
   "id": "16ddadc9",
   "metadata": {},
   "outputs": [],
   "source": [
    "train_X = trainNorm[['ZCARRIER_OH','ZDEP_TIME', 'ZDAY_OF_WEEK','ZDAY_OF_MONTH']]\n",
    "train_y = trainNorm['Flight Status']\n",
    "valid_X = validNorm[['ZCARRIER_OH','ZDEP_TIME', 'ZDAY_OF_WEEK','ZDAY_OF_MONTH']]\n",
    "valid_y = validNorm['Flight Status']"
   ]
  },
  {
   "cell_type": "code",
   "execution_count": 36,
   "id": "950e22c8",
   "metadata": {},
   "outputs": [
    {
     "name": "stdout",
     "output_type": "stream",
     "text": [
      "    k  accuracy\n",
      "0   1  0.714286\n",
      "1   2  0.571429\n",
      "2   3  0.571429\n",
      "3   4  0.571429\n",
      "4   5  0.714286\n",
      "5   6  0.428571\n",
      "6   7  0.714286\n",
      "7   8  0.714286\n",
      "8   9  0.714286\n",
      "9  10  0.714286\n"
     ]
    },
    {
     "name": "stderr",
     "output_type": "stream",
     "text": [
      "C:\\Users\\anjan\\anaconda3\\lib\\site-packages\\sklearn\\neighbors\\_classification.py:228: FutureWarning: Unlike other reduction functions (e.g. `skew`, `kurtosis`), the default behavior of `mode` typically preserves the axis it acts along. In SciPy 1.11.0, this behavior will change: the default value of `keepdims` will become False, the `axis` over which the statistic is taken will be eliminated, and the value None will no longer be accepted. Set `keepdims` to True or False to avoid this warning.\n",
      "  mode, _ = stats.mode(_y[neigh_ind, k], axis=1)\n",
      "C:\\Users\\anjan\\anaconda3\\lib\\site-packages\\sklearn\\neighbors\\_classification.py:228: FutureWarning: Unlike other reduction functions (e.g. `skew`, `kurtosis`), the default behavior of `mode` typically preserves the axis it acts along. In SciPy 1.11.0, this behavior will change: the default value of `keepdims` will become False, the `axis` over which the statistic is taken will be eliminated, and the value None will no longer be accepted. Set `keepdims` to True or False to avoid this warning.\n",
      "  mode, _ = stats.mode(_y[neigh_ind, k], axis=1)\n",
      "C:\\Users\\anjan\\anaconda3\\lib\\site-packages\\sklearn\\neighbors\\_classification.py:228: FutureWarning: Unlike other reduction functions (e.g. `skew`, `kurtosis`), the default behavior of `mode` typically preserves the axis it acts along. In SciPy 1.11.0, this behavior will change: the default value of `keepdims` will become False, the `axis` over which the statistic is taken will be eliminated, and the value None will no longer be accepted. Set `keepdims` to True or False to avoid this warning.\n",
      "  mode, _ = stats.mode(_y[neigh_ind, k], axis=1)\n",
      "C:\\Users\\anjan\\anaconda3\\lib\\site-packages\\sklearn\\neighbors\\_classification.py:228: FutureWarning: Unlike other reduction functions (e.g. `skew`, `kurtosis`), the default behavior of `mode` typically preserves the axis it acts along. In SciPy 1.11.0, this behavior will change: the default value of `keepdims` will become False, the `axis` over which the statistic is taken will be eliminated, and the value None will no longer be accepted. Set `keepdims` to True or False to avoid this warning.\n",
      "  mode, _ = stats.mode(_y[neigh_ind, k], axis=1)\n",
      "C:\\Users\\anjan\\anaconda3\\lib\\site-packages\\sklearn\\neighbors\\_classification.py:228: FutureWarning: Unlike other reduction functions (e.g. `skew`, `kurtosis`), the default behavior of `mode` typically preserves the axis it acts along. In SciPy 1.11.0, this behavior will change: the default value of `keepdims` will become False, the `axis` over which the statistic is taken will be eliminated, and the value None will no longer be accepted. Set `keepdims` to True or False to avoid this warning.\n",
      "  mode, _ = stats.mode(_y[neigh_ind, k], axis=1)\n",
      "C:\\Users\\anjan\\anaconda3\\lib\\site-packages\\sklearn\\neighbors\\_classification.py:228: FutureWarning: Unlike other reduction functions (e.g. `skew`, `kurtosis`), the default behavior of `mode` typically preserves the axis it acts along. In SciPy 1.11.0, this behavior will change: the default value of `keepdims` will become False, the `axis` over which the statistic is taken will be eliminated, and the value None will no longer be accepted. Set `keepdims` to True or False to avoid this warning.\n",
      "  mode, _ = stats.mode(_y[neigh_ind, k], axis=1)\n",
      "C:\\Users\\anjan\\anaconda3\\lib\\site-packages\\sklearn\\neighbors\\_classification.py:228: FutureWarning: Unlike other reduction functions (e.g. `skew`, `kurtosis`), the default behavior of `mode` typically preserves the axis it acts along. In SciPy 1.11.0, this behavior will change: the default value of `keepdims` will become False, the `axis` over which the statistic is taken will be eliminated, and the value None will no longer be accepted. Set `keepdims` to True or False to avoid this warning.\n",
      "  mode, _ = stats.mode(_y[neigh_ind, k], axis=1)\n",
      "C:\\Users\\anjan\\anaconda3\\lib\\site-packages\\sklearn\\neighbors\\_classification.py:228: FutureWarning: Unlike other reduction functions (e.g. `skew`, `kurtosis`), the default behavior of `mode` typically preserves the axis it acts along. In SciPy 1.11.0, this behavior will change: the default value of `keepdims` will become False, the `axis` over which the statistic is taken will be eliminated, and the value None will no longer be accepted. Set `keepdims` to True or False to avoid this warning.\n",
      "  mode, _ = stats.mode(_y[neigh_ind, k], axis=1)\n",
      "C:\\Users\\anjan\\anaconda3\\lib\\site-packages\\sklearn\\neighbors\\_classification.py:228: FutureWarning: Unlike other reduction functions (e.g. `skew`, `kurtosis`), the default behavior of `mode` typically preserves the axis it acts along. In SciPy 1.11.0, this behavior will change: the default value of `keepdims` will become False, the `axis` over which the statistic is taken will be eliminated, and the value None will no longer be accepted. Set `keepdims` to True or False to avoid this warning.\n",
      "  mode, _ = stats.mode(_y[neigh_ind, k], axis=1)\n",
      "C:\\Users\\anjan\\anaconda3\\lib\\site-packages\\sklearn\\neighbors\\_classification.py:228: FutureWarning: Unlike other reduction functions (e.g. `skew`, `kurtosis`), the default behavior of `mode` typically preserves the axis it acts along. In SciPy 1.11.0, this behavior will change: the default value of `keepdims` will become False, the `axis` over which the statistic is taken will be eliminated, and the value None will no longer be accepted. Set `keepdims` to True or False to avoid this warning.\n",
      "  mode, _ = stats.mode(_y[neigh_ind, k], axis=1)\n"
     ]
    }
   ],
   "source": [
    "# Train the classifier for different values of k\n",
    "results = []\n",
    "for k in range(1, 11):\n",
    "    knn = KNeighborsClassifier(n_neighbors=k).fit(train_X, train_y)\n",
    "    results.append({'k': k,'accuracy': accuracy_score(valid_y, knn.predict(valid_X))\n",
    "                   })\n",
    "results = pd.DataFrame(results)\n",
    "print(results)"
   ]
  },
  {
   "cell_type": "code",
   "execution_count": 37,
   "id": "8f7a0686",
   "metadata": {},
   "outputs": [
    {
     "name": "stdout",
     "output_type": "stream",
     "text": [
      "['ontime']\n",
      "Distances [[0.41188523 0.82380468 1.45829755 2.20725322 2.26591705]]\n",
      "Indices [[4 0 9 6 7]]\n",
      "   ZCARRIER_OH  ZDEP_TIME  ZDAY_OF_WEEK  ZDAY_OF_MONTH Flight Status  Number\n",
      "4     1.527525   0.473808           0.0       0.000000        ontime       5\n",
      "0     1.527525   0.936060           0.0      -1.118034       delayed       1\n",
      "9     1.527525   0.488253           0.0       1.118034        ontime      10\n",
      "6    -0.654654   0.644263           0.0       0.000000       delayed       7\n",
      "7    -0.654654   1.253858           0.0       0.000000        ontime       8\n"
     ]
    },
    {
     "name": "stderr",
     "output_type": "stream",
     "text": [
      "C:\\Users\\anjan\\anaconda3\\lib\\site-packages\\sklearn\\neighbors\\_classification.py:228: FutureWarning: Unlike other reduction functions (e.g. `skew`, `kurtosis`), the default behavior of `mode` typically preserves the axis it acts along. In SciPy 1.11.0, this behavior will change: the default value of `keepdims` will become False, the `axis` over which the statistic is taken will be eliminated, and the value None will no longer be accepted. Set `keepdims` to True or False to avoid this warning.\n",
      "  mode, _ = stats.mode(_y[neigh_ind, k], axis=1)\n"
     ]
    }
   ],
   "source": [
    "# Retrain with full dataset\n",
    "delays_X = delaysNorm[['ZCARRIER_OH','ZDEP_TIME', 'ZDAY_OF_WEEK','ZDAY_OF_MONTH']]\n",
    "delays_y = delaysNorm['Flight Status']\n",
    "knn = KNeighborsClassifier(n_neighbors=5).fit(delays_X, delays_y)\n",
    "distances, indices = knn.kneighbors(newflightNorm)\n",
    "print(knn.predict(newflightNorm))\n",
    "print('Distances',distances)\n",
    "print('Indices', indices)\n",
    "print(delaysNorm.iloc[indices[0], :])"
   ]
  },
  {
   "cell_type": "code",
   "execution_count": 9,
   "id": "4d50d5f1",
   "metadata": {},
   "outputs": [
    {
     "data": {
      "text/html": [
       "<div>\n",
       "<style scoped>\n",
       "    .dataframe tbody tr th:only-of-type {\n",
       "        vertical-align: middle;\n",
       "    }\n",
       "\n",
       "    .dataframe tbody tr th {\n",
       "        vertical-align: top;\n",
       "    }\n",
       "\n",
       "    .dataframe thead th {\n",
       "        text-align: right;\n",
       "    }\n",
       "</style>\n",
       "<table border=\"1\" class=\"dataframe\">\n",
       "  <thead>\n",
       "    <tr style=\"text-align: right;\">\n",
       "      <th></th>\n",
       "      <th>CARRIER_RU</th>\n",
       "      <th>DEP_TIME</th>\n",
       "      <th>DAY_OF_WEEK</th>\n",
       "      <th>DAY_OF_MONTH</th>\n",
       "    </tr>\n",
       "  </thead>\n",
       "  <tbody>\n",
       "    <tr>\n",
       "      <th>0</th>\n",
       "      <td>1</td>\n",
       "      <td>1540</td>\n",
       "      <td>1</td>\n",
       "      <td>10</td>\n",
       "    </tr>\n",
       "  </tbody>\n",
       "</table>\n",
       "</div>"
      ],
      "text/plain": [
       "   CARRIER_RU  DEP_TIME  DAY_OF_WEEK  DAY_OF_MONTH\n",
       "0           1      1540            1            10"
      ]
     },
     "execution_count": 9,
     "metadata": {},
     "output_type": "execute_result"
    }
   ],
   "source": [
    "# Now we take the RU carrier and predicting whether it will be ontime or delayed on the same day and same time.\n",
    "newflight = pd.DataFrame([{'CARRIER_RU':1, 'DEP_TIME': 1540, 'DAY_OF_WEEK':1, 'DAY_OF_MONTH':10}])\n",
    "newflight"
   ]
  },
  {
   "cell_type": "code",
   "execution_count": 10,
   "id": "45ae657d",
   "metadata": {},
   "outputs": [
    {
     "data": {
      "text/plain": [
       "StandardScaler()"
      ]
     },
     "execution_count": 10,
     "metadata": {},
     "output_type": "execute_result"
    }
   ],
   "source": [
    "scaler = preprocessing.StandardScaler()\n",
    "scaler.fit(trainData[['CARRIER_RU','DEP_TIME', 'DAY_OF_WEEK','DAY_OF_MONTH']])"
   ]
  },
  {
   "cell_type": "code",
   "execution_count": 11,
   "id": "a82a0f06",
   "metadata": {},
   "outputs": [],
   "source": [
    "#Transform the full dataset by normalizing.\n",
    "delaysNorm = pd.concat([pd.DataFrame(scaler.transform(delays_df[['CARRIER_RU','DEP_TIME', 'DAY_OF_WEEK','DAY_OF_MONTH']]),columns=['ZCARRIER_RU','ZDEP_TIME', 'ZDAY_OF_WEEK','ZDAY_OF_MONTH']),delays_df[['Flight Status', 'Number']]], axis=1)\n",
    "trainNorm = delaysNorm.iloc[trainData.index]\n",
    "validNorm = delaysNorm.iloc[validData.index]\n",
    "newflightNorm = pd.DataFrame(scaler.transform(newflight), columns=['ZCARRIER_RU','ZDEP_TIME','ZDAY_OF_WEEK','ZDAY_OF_MONTH'])"
   ]
  },
  {
   "cell_type": "code",
   "execution_count": 12,
   "id": "b868f2cd",
   "metadata": {},
   "outputs": [
    {
     "name": "stdout",
     "output_type": "stream",
     "text": [
      "   ZCARRIER_RU  ZDEP_TIME  ZDAY_OF_WEEK  ZDAY_OF_MONTH Flight Status  Number\n",
      "7     0.654654   1.253858           0.0       0.000000        ontime       8\n",
      "2     0.654654   0.696267           0.0      -1.118034       delayed       3\n",
      "3     0.654654  -0.187790           0.0      -1.118034       delayed       4\n"
     ]
    }
   ],
   "source": [
    "##Use k nearest neighbor against the normalized training data with K=3\n",
    "knn = NearestNeighbors(n_neighbors=3)\n",
    "knn.fit(trainNorm[['ZCARRIER_RU','ZDEP_TIME', 'ZDAY_OF_WEEK','ZDAY_OF_MONTH']])\n",
    "distances, indices = knn.kneighbors(newflightNorm)\n",
    "print(trainNorm.iloc[indices[0], :])"
   ]
  },
  {
   "cell_type": "code",
   "execution_count": 13,
   "id": "de0047a3",
   "metadata": {},
   "outputs": [],
   "source": [
    "train_X = trainNorm[['ZCARRIER_RU','ZDEP_TIME', 'ZDAY_OF_WEEK','ZDAY_OF_MONTH']]\n",
    "train_y = trainNorm['Flight Status']\n",
    "valid_X = validNorm[['ZCARRIER_RU','ZDEP_TIME', 'ZDAY_OF_WEEK','ZDAY_OF_MONTH']]\n",
    "valid_y = validNorm['Flight Status']"
   ]
  },
  {
   "cell_type": "code",
   "execution_count": 14,
   "id": "27b8cecc",
   "metadata": {},
   "outputs": [
    {
     "name": "stdout",
     "output_type": "stream",
     "text": [
      "    k  accuracy\n",
      "0   1  0.714286\n",
      "1   2  0.571429\n",
      "2   3  0.571429\n",
      "3   4  0.571429\n",
      "4   5  0.714286\n",
      "5   6  0.428571\n",
      "6   7  0.714286\n",
      "7   8  0.714286\n",
      "8   9  0.714286\n",
      "9  10  0.714286\n"
     ]
    },
    {
     "name": "stderr",
     "output_type": "stream",
     "text": [
      "C:\\Users\\anjan\\anaconda3\\lib\\site-packages\\sklearn\\neighbors\\_classification.py:228: FutureWarning: Unlike other reduction functions (e.g. `skew`, `kurtosis`), the default behavior of `mode` typically preserves the axis it acts along. In SciPy 1.11.0, this behavior will change: the default value of `keepdims` will become False, the `axis` over which the statistic is taken will be eliminated, and the value None will no longer be accepted. Set `keepdims` to True or False to avoid this warning.\n",
      "  mode, _ = stats.mode(_y[neigh_ind, k], axis=1)\n",
      "C:\\Users\\anjan\\anaconda3\\lib\\site-packages\\sklearn\\neighbors\\_classification.py:228: FutureWarning: Unlike other reduction functions (e.g. `skew`, `kurtosis`), the default behavior of `mode` typically preserves the axis it acts along. In SciPy 1.11.0, this behavior will change: the default value of `keepdims` will become False, the `axis` over which the statistic is taken will be eliminated, and the value None will no longer be accepted. Set `keepdims` to True or False to avoid this warning.\n",
      "  mode, _ = stats.mode(_y[neigh_ind, k], axis=1)\n",
      "C:\\Users\\anjan\\anaconda3\\lib\\site-packages\\sklearn\\neighbors\\_classification.py:228: FutureWarning: Unlike other reduction functions (e.g. `skew`, `kurtosis`), the default behavior of `mode` typically preserves the axis it acts along. In SciPy 1.11.0, this behavior will change: the default value of `keepdims` will become False, the `axis` over which the statistic is taken will be eliminated, and the value None will no longer be accepted. Set `keepdims` to True or False to avoid this warning.\n",
      "  mode, _ = stats.mode(_y[neigh_ind, k], axis=1)\n",
      "C:\\Users\\anjan\\anaconda3\\lib\\site-packages\\sklearn\\neighbors\\_classification.py:228: FutureWarning: Unlike other reduction functions (e.g. `skew`, `kurtosis`), the default behavior of `mode` typically preserves the axis it acts along. In SciPy 1.11.0, this behavior will change: the default value of `keepdims` will become False, the `axis` over which the statistic is taken will be eliminated, and the value None will no longer be accepted. Set `keepdims` to True or False to avoid this warning.\n",
      "  mode, _ = stats.mode(_y[neigh_ind, k], axis=1)\n",
      "C:\\Users\\anjan\\anaconda3\\lib\\site-packages\\sklearn\\neighbors\\_classification.py:228: FutureWarning: Unlike other reduction functions (e.g. `skew`, `kurtosis`), the default behavior of `mode` typically preserves the axis it acts along. In SciPy 1.11.0, this behavior will change: the default value of `keepdims` will become False, the `axis` over which the statistic is taken will be eliminated, and the value None will no longer be accepted. Set `keepdims` to True or False to avoid this warning.\n",
      "  mode, _ = stats.mode(_y[neigh_ind, k], axis=1)\n",
      "C:\\Users\\anjan\\anaconda3\\lib\\site-packages\\sklearn\\neighbors\\_classification.py:228: FutureWarning: Unlike other reduction functions (e.g. `skew`, `kurtosis`), the default behavior of `mode` typically preserves the axis it acts along. In SciPy 1.11.0, this behavior will change: the default value of `keepdims` will become False, the `axis` over which the statistic is taken will be eliminated, and the value None will no longer be accepted. Set `keepdims` to True or False to avoid this warning.\n",
      "  mode, _ = stats.mode(_y[neigh_ind, k], axis=1)\n",
      "C:\\Users\\anjan\\anaconda3\\lib\\site-packages\\sklearn\\neighbors\\_classification.py:228: FutureWarning: Unlike other reduction functions (e.g. `skew`, `kurtosis`), the default behavior of `mode` typically preserves the axis it acts along. In SciPy 1.11.0, this behavior will change: the default value of `keepdims` will become False, the `axis` over which the statistic is taken will be eliminated, and the value None will no longer be accepted. Set `keepdims` to True or False to avoid this warning.\n",
      "  mode, _ = stats.mode(_y[neigh_ind, k], axis=1)\n",
      "C:\\Users\\anjan\\anaconda3\\lib\\site-packages\\sklearn\\neighbors\\_classification.py:228: FutureWarning: Unlike other reduction functions (e.g. `skew`, `kurtosis`), the default behavior of `mode` typically preserves the axis it acts along. In SciPy 1.11.0, this behavior will change: the default value of `keepdims` will become False, the `axis` over which the statistic is taken will be eliminated, and the value None will no longer be accepted. Set `keepdims` to True or False to avoid this warning.\n",
      "  mode, _ = stats.mode(_y[neigh_ind, k], axis=1)\n",
      "C:\\Users\\anjan\\anaconda3\\lib\\site-packages\\sklearn\\neighbors\\_classification.py:228: FutureWarning: Unlike other reduction functions (e.g. `skew`, `kurtosis`), the default behavior of `mode` typically preserves the axis it acts along. In SciPy 1.11.0, this behavior will change: the default value of `keepdims` will become False, the `axis` over which the statistic is taken will be eliminated, and the value None will no longer be accepted. Set `keepdims` to True or False to avoid this warning.\n",
      "  mode, _ = stats.mode(_y[neigh_ind, k], axis=1)\n",
      "C:\\Users\\anjan\\anaconda3\\lib\\site-packages\\sklearn\\neighbors\\_classification.py:228: FutureWarning: Unlike other reduction functions (e.g. `skew`, `kurtosis`), the default behavior of `mode` typically preserves the axis it acts along. In SciPy 1.11.0, this behavior will change: the default value of `keepdims` will become False, the `axis` over which the statistic is taken will be eliminated, and the value None will no longer be accepted. Set `keepdims` to True or False to avoid this warning.\n",
      "  mode, _ = stats.mode(_y[neigh_ind, k], axis=1)\n"
     ]
    }
   ],
   "source": [
    "# Train the classifier for different values of k\n",
    "results = []\n",
    "for k in range(1, 11):\n",
    "    knn = KNeighborsClassifier(n_neighbors=k).fit(train_X, train_y)\n",
    "    results.append({'k': k,'accuracy': accuracy_score(valid_y, knn.predict(valid_X))\n",
    "                   })\n",
    "results = pd.DataFrame(results)\n",
    "print(results)"
   ]
  },
  {
   "cell_type": "code",
   "execution_count": 15,
   "id": "f8e59b82",
   "metadata": {},
   "outputs": [
    {
     "name": "stdout",
     "output_type": "stream",
     "text": [
      "['delayed']\n",
      "Distances [[0.33175599 0.61030756 0.79947839 1.21947862 1.46028802]]\n",
      "Indices [[ 6  7  2  3 13]]\n",
      "    ZCARRIER_RU  ZDEP_TIME  ZDAY_OF_WEEK  ZDAY_OF_MONTH Flight Status  Number\n",
      "6      0.654654   0.644263           0.0       0.000000       delayed       7\n",
      "7      0.654654   1.253858           0.0       0.000000        ontime       8\n",
      "2      0.654654   0.696267           0.0      -1.118034       delayed       3\n",
      "3      0.654654  -0.187790           0.0      -1.118034       delayed       4\n",
      "13     0.654654   0.476697           0.0       1.118034        ontime      14\n"
     ]
    },
    {
     "name": "stderr",
     "output_type": "stream",
     "text": [
      "C:\\Users\\anjan\\anaconda3\\lib\\site-packages\\sklearn\\neighbors\\_classification.py:228: FutureWarning: Unlike other reduction functions (e.g. `skew`, `kurtosis`), the default behavior of `mode` typically preserves the axis it acts along. In SciPy 1.11.0, this behavior will change: the default value of `keepdims` will become False, the `axis` over which the statistic is taken will be eliminated, and the value None will no longer be accepted. Set `keepdims` to True or False to avoid this warning.\n",
      "  mode, _ = stats.mode(_y[neigh_ind, k], axis=1)\n"
     ]
    }
   ],
   "source": [
    "# Retrain with full dataset\n",
    "delays_X = delaysNorm[['ZCARRIER_RU','ZDEP_TIME', 'ZDAY_OF_WEEK','ZDAY_OF_MONTH']]\n",
    "delays_y = delaysNorm['Flight Status']\n",
    "knn = KNeighborsClassifier(n_neighbors=5).fit(delays_X, delays_y)\n",
    "distances, indices = knn.kneighbors(newflightNorm)\n",
    "print(knn.predict(newflightNorm))\n",
    "print('Distances',distances)\n",
    "print('Indices', indices)\n",
    "print(delaysNorm.iloc[indices[0], :])"
   ]
  },
  {
   "cell_type": "code",
   "execution_count": null,
   "id": "c361f543",
   "metadata": {},
   "outputs": [],
   "source": [
    "#Now we can conclude from KNN that it is better to take OH carrier from BWI TO JFK as it predicted to be ontime \n",
    "#while the RU carrier from BWI to EWR is predicted to be delayed on monday day 10 at 1540 hours."
   ]
  }
 ],
 "metadata": {
  "kernelspec": {
   "display_name": "Python 3 (ipykernel)",
   "language": "python",
   "name": "python3"
  },
  "language_info": {
   "codemirror_mode": {
    "name": "ipython",
    "version": 3
   },
   "file_extension": ".py",
   "mimetype": "text/x-python",
   "name": "python",
   "nbconvert_exporter": "python",
   "pygments_lexer": "ipython3",
   "version": "3.9.13"
  }
 },
 "nbformat": 4,
 "nbformat_minor": 5
}
